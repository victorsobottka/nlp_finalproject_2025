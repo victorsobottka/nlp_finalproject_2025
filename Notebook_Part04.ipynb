{
 "cells": [
  {
   "cell_type": "markdown",
   "id": "1e0a1efc",
   "metadata": {},
   "source": [
    "# **Libraries**"
   ]
  },
  {
   "cell_type": "code",
   "execution_count": 18,
   "id": "d01947da",
   "metadata": {},
   "outputs": [],
   "source": [
    "import torch\n",
    "from torch import nn\n",
    "from transformers import BertForSequenceClassification, DistilBertForSequenceClassification, BertTokenizer, DistilBertTokenizerFast, Trainer, TrainingArguments\n",
    "from datasets import load_dataset\n",
    "from torch.utils.data import DataLoader\n",
    "from transformers import AdamW\n",
    "import os\n",
    "import numpy as np\n",
    "import random\n",
    "import evaluate\n",
    "from sklearn.metrics import accuracy_score, precision_recall_fscore_support\n",
    "import matplotlib.pyplot as plt"
   ]
  },
  {
   "cell_type": "markdown",
   "id": "e77a6bc1",
   "metadata": {},
   "source": [
    "# **Part 4: Model Distillation/Quantization**\n",
    "\n",
    "### **a. Model Distillation/Quantization**: \n",
    "Distill/Quantize your best-performing model into a lighter model. Document the process and tools used."
   ]
  },
  {
   "cell_type": "markdown",
   "id": "9e75a4f4",
   "metadata": {},
   "source": [
    "**Definitions of the Processes**\n",
    "\n",
    "\n",
    "Knowledge Distillation:\n",
    "\n",
    "\n",
    "Knowledge distillation is a model compression technique where a smaller model (the student, here DistilBERT) is trained to replicate the behavior of a larger, more accurate model (the teacher, here BERT). The student model learns not only from the ground-truth labels but also from the teacher’s output probabilities (logits), capturing richer information about class relationships. This process enables the student to achieve competitive performance with significantly fewer parameters and faster inference.\n",
    "\n",
    "Quantization:\n",
    "\n",
    "\n",
    "Quantization reduces the memory footprint and computational requirements of a model by converting its weights and activations from high-precision (e.g., 32-bit floating point) to lower-precision representations (e.g., 8-bit integers). This allows for faster inference and reduced model size, often with minimal impact on accuracy. In this project, we apply dynamic quantization to the BERT model, targeting linear layers for conversion to 8-bit integers.\n",
    "\n",
    "---\n",
    "\n",
    "**Methodology Overview**\n",
    "\n",
    "\n",
    "1. Load the Original Fine-Tuned BERT Model (Teacher):\n",
    "\n",
    "We start with a BERT model fine-tuned on 32 labeled samples, which serves as the teacher for distillation and as the baseline for quantization.\n",
    "\n",
    "2. Generate Teacher Logits for the Student Model:\n",
    "\n",
    "The teacher model is used to produce output logits (predicted class probabilities) on the training data. These logits provide soft targets that guide the student model during distillation.\n",
    "\n",
    "3. Train the Student Model (DistilBERT):\n",
    "\n",
    "We initialize a DistilBERT model for sequence classification and train it using the same data. The student can be trained using a custom loss that combines the true labels and the teacher’s logits, allowing it to mimic the teacher’s behavior while remaining lightweight.\n",
    "\n",
    "4. Create the Quantized Model:\n",
    "\n",
    "We apply dynamic quantization to the fine-tuned BERT model, converting its linear layers to 8-bit integer representations. This process reduces model size and speeds up inference, making the model more suitable for deployment on resource-constrained devices.\n",
    "\n",
    "5. Evaluation and Comparison:\n",
    "\n",
    "All three models—BERT (Teacher), DistilBERT (Student), and Quantized BERT—are evaluated on the same test set. We compare their accuracy, precision, recall, F1-score, inference time, and model size to assess the trade-offs between performance and efficiency."
   ]
  },
  {
   "cell_type": "code",
   "execution_count": 4,
   "id": "e60c0714",
   "metadata": {},
   "outputs": [],
   "source": [
    "path = os.getcwd()\n",
    "path_model = os.path.join(path, 'saved_teacher_model')"
   ]
  },
  {
   "cell_type": "code",
   "execution_count": 5,
   "id": "aab6b002",
   "metadata": {},
   "outputs": [
    {
     "data": {
      "text/plain": [
       "'/home/sobottka/BSE/3rd_Term/Adv_NLP/nlp_finalproject_2025/saved_teacher_model'"
      ]
     },
     "execution_count": 5,
     "metadata": {},
     "output_type": "execute_result"
    }
   ],
   "source": [
    "path_model"
   ]
  },
  {
   "cell_type": "code",
   "execution_count": 6,
   "id": "fa89e5b2",
   "metadata": {},
   "outputs": [],
   "source": [
    "\n",
    "# Fix all random seeds for reproducibility\n",
    "seed = 42\n",
    "torch.manual_seed(seed)\n",
    "np.random.seed(seed)\n",
    "\n",
    "dataset = load_dataset(\"financial_phrasebank\", \"sentences_75agree\")\n",
    "train_dataset = dataset[\"train\"].train_test_split(test_size=0.2, seed=seed)\n"
   ]
  },
  {
   "cell_type": "code",
   "execution_count": 7,
   "id": "1c0897af",
   "metadata": {},
   "outputs": [
    {
     "name": "stderr",
     "output_type": "stream",
     "text": [
      "/home/sobottka/anaconda3/envs/textmining/lib/python3.12/site-packages/transformers/tokenization_utils_base.py:1601: FutureWarning: `clean_up_tokenization_spaces` was not set. It will be set to `True` by default. This behavior will be depracted in transformers v4.45, and will be then set to `False` by default. For more details check this issue: https://github.com/huggingface/transformers/issues/31884\n",
      "  warnings.warn(\n"
     ]
    },
    {
     "data": {
      "application/vnd.jupyter.widget-view+json": {
       "model_id": "9628368fe96e4cd0ba473641fe8b23d4",
       "version_major": 2,
       "version_minor": 0
      },
      "text/plain": [
       "Map:   0%|          | 0/691 [00:00<?, ? examples/s]"
      ]
     },
     "metadata": {},
     "output_type": "display_data"
    }
   ],
   "source": [
    "\n",
    "# Load pre-trained BERT tokenizer\n",
    "bert_tokenizer = BertTokenizer.from_pretrained(path_model)\n",
    "\n",
    "# Tokenize for BERT (teacher)\n",
    "def bert_tokenize(batch):\n",
    "    return bert_tokenizer(batch[\"sentence\"], padding=\"max_length\", truncation=True, max_length=128)\n",
    "bert_test = train_dataset[\"test\"].map(bert_tokenize, batched=True)\n",
    "\n",
    "# Tokenize for DistilBERT (student)\n",
    "distilbert_tokenizer = DistilBertTokenizerFast.from_pretrained(\"distilbert-base-uncased\")\n",
    "def distilbert_tokenize(batch):\n",
    "    return distilbert_tokenizer(batch[\"sentence\"], padding=\"max_length\", truncation=True, max_length=128)\n",
    "distilbert_train = train_dataset[\"train\"].map(distilbert_tokenize, batched=True)\n",
    "distilbert_test = train_dataset[\"test\"].map(distilbert_tokenize, batched=True)\n",
    "\n",
    "# Convert to PyTorch format\n",
    "bert_test.set_format(\"torch\", columns=[\"input_ids\", \"attention_mask\", \"label\"])\n",
    "distilbert_train.set_format(\"torch\", columns=[\"input_ids\", \"attention_mask\", \"label\"])\n",
    "distilbert_test.set_format(\"torch\", columns=[\"input_ids\", \"attention_mask\", \"label\"])"
   ]
  },
  {
   "cell_type": "markdown",
   "id": "9464a001",
   "metadata": {},
   "source": [
    "**Load Pre-Trained BERT (Teacher)**"
   ]
  },
  {
   "cell_type": "code",
   "execution_count": 8,
   "id": "999dd5c0",
   "metadata": {},
   "outputs": [
    {
     "name": "stdout",
     "output_type": "stream",
     "text": [
      "BERT output shape: torch.Size([1, 3])\n"
     ]
    }
   ],
   "source": [
    "bert_model = BertForSequenceClassification.from_pretrained(\n",
    "    path_model, num_labels=3\n",
    ").eval()  # Set to evaluation mode\n",
    "\n",
    "# Quick sanity check\n",
    "with torch.no_grad():\n",
    "    sample = bert_tokenizer(\"This is a test\", return_tensors=\"pt\")\n",
    "    print(\"BERT output shape:\", bert_model(**sample).logits.shape)"
   ]
  },
  {
   "cell_type": "markdown",
   "id": "4a705ad0",
   "metadata": {},
   "source": [
    "**Generating Teacher Logits**"
   ]
  },
  {
   "cell_type": "code",
   "execution_count": 9,
   "id": "0586d874",
   "metadata": {},
   "outputs": [],
   "source": [
    "def get_teacher_logits(batch):\n",
    "    inputs = {\n",
    "        \"input_ids\": batch[\"input_ids\"],\n",
    "        \"attention_mask\": batch[\"attention_mask\"]\n",
    "    }\n",
    "    with torch.no_grad():\n",
    "        outputs = bert_model(**inputs)\n",
    "    return {\"teacher_logits\": outputs.logits.cpu().numpy()}  # Detach and move to CPU\n",
    "\n",
    "# Add teacher logits to training data\n",
    "distilbert_train = distilbert_train.map(get_teacher_logits, batched=True, batch_size=8)"
   ]
  },
  {
   "cell_type": "markdown",
   "id": "44fb2075",
   "metadata": {},
   "source": [
    "**Train DistillBert (Student)**"
   ]
  },
  {
   "cell_type": "code",
   "execution_count": 10,
   "id": "c9f04d51",
   "metadata": {},
   "outputs": [
    {
     "name": "stderr",
     "output_type": "stream",
     "text": [
      "Some weights of DistilBertForSequenceClassification were not initialized from the model checkpoint at distilbert-base-uncased and are newly initialized: ['classifier.bias', 'classifier.weight', 'pre_classifier.bias', 'pre_classifier.weight']\n",
      "You should probably TRAIN this model on a down-stream task to be able to use it for predictions and inference.\n",
      "/home/sobottka/anaconda3/envs/textmining/lib/python3.12/site-packages/transformers/training_args.py:1525: FutureWarning: `evaluation_strategy` is deprecated and will be removed in version 4.46 of 🤗 Transformers. Use `eval_strategy` instead\n",
      "  warnings.warn(\n",
      "/home/sobottka/anaconda3/envs/textmining/lib/python3.12/site-packages/torch/cuda/__init__.py:129: UserWarning: CUDA initialization: CUDA unknown error - this may be due to an incorrectly set up environment, e.g. changing env variable CUDA_VISIBLE_DEVICES after program start. Setting the available devices to be zero. (Triggered internally at /opt/conda/conda-bld/pytorch_1729647329220/work/c10/cuda/CUDAFunctions.cpp:108.)\n",
      "  return torch._C._cuda_getDeviceCount() > 0\n"
     ]
    },
    {
     "data": {
      "application/vnd.jupyter.widget-view+json": {
       "model_id": "6c0a241393c248e29735ca25b95afc50",
       "version_major": 2,
       "version_minor": 0
      },
      "text/plain": [
       "  0%|          | 0/1038 [00:00<?, ?it/s]"
      ]
     },
     "metadata": {},
     "output_type": "display_data"
    },
    {
     "name": "stdout",
     "output_type": "stream",
     "text": [
      "{'loss': 0.6539, 'grad_norm': 7.0803399085998535, 'learning_rate': 4.518304431599229e-05, 'epoch': 0.29}\n",
      "{'loss': 0.3808, 'grad_norm': 6.493463516235352, 'learning_rate': 4.036608863198459e-05, 'epoch': 0.58}\n",
      "{'loss': 0.3127, 'grad_norm': 67.32035064697266, 'learning_rate': 3.554913294797688e-05, 'epoch': 0.87}\n"
     ]
    },
    {
     "data": {
      "application/vnd.jupyter.widget-view+json": {
       "model_id": "9814d5b17e594717ab44d90751a3eb2a",
       "version_major": 2,
       "version_minor": 0
      },
      "text/plain": [
       "  0%|          | 0/87 [00:00<?, ?it/s]"
      ]
     },
     "metadata": {},
     "output_type": "display_data"
    },
    {
     "name": "stdout",
     "output_type": "stream",
     "text": [
      "{'eval_loss': 0.3014574646949768, 'eval_accuracy': 0.91027496382055, 'eval_runtime': 31.5992, 'eval_samples_per_second': 21.868, 'eval_steps_per_second': 2.753, 'epoch': 1.0}\n",
      "{'loss': 0.2206, 'grad_norm': 6.721513271331787, 'learning_rate': 3.073217726396917e-05, 'epoch': 1.16}\n",
      "{'loss': 0.178, 'grad_norm': 0.2546408772468567, 'learning_rate': 2.5915221579961463e-05, 'epoch': 1.45}\n",
      "{'loss': 0.1248, 'grad_norm': 0.059715308248996735, 'learning_rate': 2.1098265895953757e-05, 'epoch': 1.73}\n"
     ]
    },
    {
     "data": {
      "application/vnd.jupyter.widget-view+json": {
       "model_id": "d676b1c12c854d1581232dfa7b3d6907",
       "version_major": 2,
       "version_minor": 0
      },
      "text/plain": [
       "  0%|          | 0/87 [00:00<?, ?it/s]"
      ]
     },
     "metadata": {},
     "output_type": "display_data"
    },
    {
     "name": "stdout",
     "output_type": "stream",
     "text": [
      "{'eval_loss': 0.28480398654937744, 'eval_accuracy': 0.9276410998552822, 'eval_runtime': 31.5699, 'eval_samples_per_second': 21.888, 'eval_steps_per_second': 2.756, 'epoch': 2.0}\n",
      "{'loss': 0.1643, 'grad_norm': 0.09561659395694733, 'learning_rate': 1.628131021194605e-05, 'epoch': 2.02}\n",
      "{'loss': 0.0305, 'grad_norm': 0.11548978835344315, 'learning_rate': 1.1464354527938344e-05, 'epoch': 2.31}\n",
      "{'loss': 0.0362, 'grad_norm': 0.03759397193789482, 'learning_rate': 6.647398843930635e-06, 'epoch': 2.6}\n",
      "{'loss': 0.0659, 'grad_norm': 0.02081201784312725, 'learning_rate': 1.8304431599229288e-06, 'epoch': 2.89}\n"
     ]
    },
    {
     "data": {
      "application/vnd.jupyter.widget-view+json": {
       "model_id": "6a5856b521c642f7b5a9e049731bbcdd",
       "version_major": 2,
       "version_minor": 0
      },
      "text/plain": [
       "  0%|          | 0/87 [00:00<?, ?it/s]"
      ]
     },
     "metadata": {},
     "output_type": "display_data"
    },
    {
     "name": "stdout",
     "output_type": "stream",
     "text": [
      "{'eval_loss': 0.34819579124450684, 'eval_accuracy': 0.9276410998552822, 'eval_runtime': 32.135, 'eval_samples_per_second': 21.503, 'eval_steps_per_second': 2.707, 'epoch': 3.0}\n",
      "{'train_runtime': 1441.9913, 'train_samples_per_second': 5.746, 'train_steps_per_second': 0.72, 'train_loss': 0.2123305560995848, 'epoch': 3.0}\n"
     ]
    },
    {
     "data": {
      "text/plain": [
       "TrainOutput(global_step=1038, training_loss=0.2123305560995848, metrics={'train_runtime': 1441.9913, 'train_samples_per_second': 5.746, 'train_steps_per_second': 0.72, 'total_flos': 274411109961216.0, 'train_loss': 0.2123305560995848, 'epoch': 3.0})"
      ]
     },
     "execution_count": 10,
     "metadata": {},
     "output_type": "execute_result"
    }
   ],
   "source": [
    "# Custom loss for distillation\n",
    "def distill_loss(student_outputs, batch):\n",
    "    teacher_logits = torch.tensor(batch[\"teacher_logits\"])\n",
    "    student_logits = student_outputs.logits\n",
    "    loss = torch.nn.functional.kl_div(\n",
    "        torch.log_softmax(student_logits / 2.0, dim=-1),\n",
    "        torch.softmax(teacher_logits / 2.0, dim=-1),\n",
    "        reduction=\"batchmean\"\n",
    "    )\n",
    "    return loss\n",
    "\n",
    "# Initialize DistilBERT\n",
    "distilbert_model = DistilBertForSequenceClassification.from_pretrained(\n",
    "    \"distilbert-base-uncased\",\n",
    "    num_labels=3\n",
    ")\n",
    "\n",
    "# Training setup\n",
    "training_args = TrainingArguments(\n",
    "    output_dir=\"./distil_results\",\n",
    "    per_device_train_batch_size=8,\n",
    "    num_train_epochs=3,\n",
    "    evaluation_strategy=\"epoch\",\n",
    "    logging_steps=100,\n",
    "    seed=seed,\n",
    ")\n",
    "\n",
    "# Metrics\n",
    "metric = evaluate.load(\"accuracy\")\n",
    "def compute_metrics(eval_pred):\n",
    "    logits, labels = eval_pred\n",
    "    predictions = np.argmax(logits, axis=-1)\n",
    "    return metric.compute(predictions=predictions, references=labels)\n",
    "\n",
    "# Train\n",
    "trainer = Trainer(\n",
    "    model=distilbert_model,\n",
    "    args=training_args,\n",
    "    train_dataset=distilbert_train,\n",
    "    eval_dataset=distilbert_test,\n",
    "    compute_metrics=compute_metrics,\n",
    ")\n",
    "trainer.train()"
   ]
  },
  {
   "cell_type": "markdown",
   "id": "665675b2",
   "metadata": {},
   "source": [
    "**Quantized Model**"
   ]
  },
  {
   "cell_type": "code",
   "execution_count": 11,
   "id": "bf4dea33",
   "metadata": {},
   "outputs": [],
   "source": [
    "\n",
    "quantized_model = torch.quantization.quantize_dynamic(\n",
    "    bert_model, {torch.nn.Linear}, dtype=torch.qint8\n",
    ")\n",
    "\n",
    "torch.save(quantized_model.state_dict(), \"quantized_teacher_model.pt\")\n"
   ]
  },
  {
   "cell_type": "markdown",
   "id": "8ec08585",
   "metadata": {},
   "source": [
    "### **b. Performance and Speed Comparison**: \n",
    "Evaluate the distilled model's performance and inference speed compared to the original. Highlight key findings."
   ]
  },
  {
   "cell_type": "code",
   "execution_count": 20,
   "id": "47653a54",
   "metadata": {},
   "outputs": [
    {
     "name": "stderr",
     "output_type": "stream",
     "text": [
      "/home/sobottka/anaconda3/envs/textmining/lib/python3.12/site-packages/sklearn/metrics/_classification.py:1565: UndefinedMetricWarning: Precision is ill-defined and being set to 0.0 in labels with no predicted samples. Use `zero_division` parameter to control this behavior.\n",
      "  _warn_prf(average, modifier, f\"{metric.capitalize()} is\", len(result))\n",
      "/home/sobottka/anaconda3/envs/textmining/lib/python3.12/site-packages/sklearn/metrics/_classification.py:1565: UndefinedMetricWarning: Precision is ill-defined and being set to 0.0 in labels with no predicted samples. Use `zero_division` parameter to control this behavior.\n",
      "  _warn_prf(average, modifier, f\"{metric.capitalize()} is\", len(result))\n"
     ]
    },
    {
     "name": "stdout",
     "output_type": "stream",
     "text": [
      "\n",
      "BERT:\n",
      "  Accuracy:  0.6339\n",
      "  Precision: 0.2113\n",
      "  Recall:    0.3333\n",
      "  F1-score:  0.2586\n",
      "  Inference Time: 132.32 ms\n",
      "\n",
      "DistilBERT:\n",
      "  Accuracy:  0.9276\n",
      "  Precision: 0.8882\n",
      "  Recall:    0.9303\n",
      "  F1-score:  0.9072\n",
      "  Inference Time: 71.82 ms\n",
      "\n",
      "Quantized BERT:\n",
      "  Accuracy:  0.6339\n",
      "  Precision: 0.2113\n",
      "  Recall:    0.3333\n",
      "  F1-score:  0.2586\n",
      "  Inference Time: 95.47 ms\n"
     ]
    },
    {
     "data": {
      "image/png": "[encoded data removed]",
      "text/plain": [
       "<Figure size 800x500 with 1 Axes>"
      ]
     },
     "metadata": {},
     "output_type": "display_data"
    }
   ],
   "source": [
    "def evaluate_model(model, dataset, tokenizer, name, device):\n",
    "    model.eval()\n",
    "    model.to(device)\n",
    "    all_preds, all_labels = [], []\n",
    "    start_time = time.time()\n",
    "    with torch.no_grad():\n",
    "        for i in range(0, len(dataset), 32):\n",
    "            batch = dataset[i:i+32]\n",
    "            inputs = {\n",
    "                \"input_ids\": batch[\"input_ids\"].to(device),\n",
    "                \"attention_mask\": batch[\"attention_mask\"].to(device)\n",
    "            }\n",
    "            outputs = model(**inputs)\n",
    "            preds = torch.argmax(outputs.logits, dim=1).cpu().numpy()\n",
    "            labels = batch[\"label\"].cpu().numpy()\n",
    "            all_preds.extend(preds)\n",
    "            all_labels.extend(labels)\n",
    "    latency = time.time() - start_time\n",
    "    acc = accuracy_score(all_labels, all_preds)\n",
    "    prec, recall, f1, _ = precision_recall_fscore_support(all_labels, all_preds, average=\"macro\")\n",
    "    return {\n",
    "        \"accuracy\": acc,\n",
    "        \"precision\": prec,\n",
    "        \"recall\": recall,\n",
    "        \"f1\": f1,\n",
    "        \"latency\": latency\n",
    "    }\n",
    "\n",
    "def single_inference_time(model, tokenizer, device, example_text):\n",
    "    model.eval()\n",
    "    model.to(device)\n",
    "    inputs = tokenizer(example_text, return_tensors=\"pt\", padding=\"max_length\", truncation=True, max_length=128)\n",
    "    inputs = {k: v.to(device) for k, v in inputs.items()}\n",
    "    with torch.no_grad():\n",
    "        start = time.time()\n",
    "        _ = model(**inputs)\n",
    "        end = time.time()\n",
    "    return end - start\n",
    "\n",
    "# Example text for timing\n",
    "example_text = \"Oil prices drop amid global recession fears.\"\n",
    "device = torch.device(\"cuda\" if torch.cuda.is_available() else \"cpu\")\n",
    "\n",
    "# Evaluate all models\n",
    "results = {}\n",
    "sizes = {}\n",
    "inf_times = {}\n",
    "\n",
    "# BERT\n",
    "bert_metrics = evaluate_model(bert_model, bert_test, bert_tokenizer, \"BERT\", device)\n",
    "bert_inf_time = single_inference_time(bert_model, bert_tokenizer, device, example_text)\n",
    "\n",
    "results[\"BERT\"] = bert_metrics\n",
    "\n",
    "inf_times[\"BERT\"] = bert_inf_time\n",
    "\n",
    "# DistilBERT\n",
    "distil_metrics = evaluate_model(distilbert_model, distilbert_test, distilbert_tokenizer, \"DistilBERT\", device)\n",
    "distil_inf_time = single_inference_time(distilbert_model, distilbert_tokenizer, device, example_text)\n",
    "\n",
    "results[\"DistilBERT\"] = distil_metrics\n",
    "\n",
    "inf_times[\"DistilBERT\"] = distil_inf_time\n",
    "\n",
    "# Quantized BERT\n",
    "quant_metrics = evaluate_model(quantized_model, bert_test, bert_tokenizer, \"Quantized BERT\", device)\n",
    "quant_inf_time = single_inference_time(quantized_model, bert_tokenizer, device, example_text)\n",
    "  # Quantized model usually saved over BERT\n",
    "results[\"Quantized BERT\"] = quant_metrics\n",
    "\n",
    "inf_times[\"Quantized BERT\"] = quant_inf_time\n",
    "\n",
    "# Print results\n",
    "for name in results:\n",
    "    print(f\"\\n{name}:\")\n",
    "    print(f\"  Accuracy:  {results[name]['accuracy']:.4f}\")\n",
    "    print(f\"  Precision: {results[name]['precision']:.4f}\")\n",
    "    print(f\"  Recall:    {results[name]['recall']:.4f}\")\n",
    "    print(f\"  F1-score:  {results[name]['f1']:.4f}\")\n",
    "    print(f\"  Inference Time: {inf_times[name]*1000:.2f} ms\")\n",
    "\n",
    "# Bar graph: inference time + dashed line for model size\n",
    "model_names = list(results.keys())\n",
    "times = [inf_times[n]*1000 for n in model_names]  # ms\n",
    "\n",
    "fig, ax1 = plt.subplots(figsize=(8, 5))\n",
    "bars = ax1.bar(model_names, times, color=\"skyblue\", label=\"Inference Time (ms)\")\n",
    "ax1.set_ylabel(\"Inference Time (ms)\", color=\"blue\")\n",
    "ax1.set_xlabel(\"Model\")\n",
    "ax1.tick_params(axis='y', labelcolor='blue')\n",
    "\n",
    "# Annotate bars\n",
    "for bar in bars:\n",
    "    yval = bar.get_height()\n",
    "    ax1.text(bar.get_x() + bar.get_width()/2, yval + 0.5, f\"{yval:.1f}\", ha='center', va='bottom', color='blue')\n",
    "\n",
    "\n",
    "plt.title(\"Model Inference Time and Size Comparison\")\n",
    "fig.tight_layout()\n",
    "plt.show()"
   ]
  },
  {
   "cell_type": "code",
   "execution_count": 24,
   "id": "534541b2",
   "metadata": {},
   "outputs": [
    {
     "name": "stdout",
     "output_type": "stream",
     "text": [
      "\n",
      "=== Model Comparison Table ===\n",
      "| Model          |   Accuracy |   Precision |   Recall |   F1-score | Inference Time   |\n",
      "|:---------------|-----------:|------------:|---------:|-----------:|:-----------------|\n",
      "| BERT           |     0.6339 |      0.2113 |   0.3333 |     0.2586 | 132.32 ms        |\n",
      "| DistilBERT     |     0.9276 |      0.8882 |   0.9303 |     0.9072 | 71.82 ms         |\n",
      "| Quantized BERT |     0.6339 |      0.2113 |   0.3333 |     0.2586 | 95.47 ms         |\n"
     ]
    },
    {
     "data": {
      "image/png": "[encoded data removed]",
      "text/plain": [
       "<Figure size 900x500 with 1 Axes>"
      ]
     },
     "metadata": {},
     "output_type": "display_data"
    }
   ],
   "source": [
    "import pandas as pd\n",
    "\n",
    "# --- Table of metrics ---\n",
    "metrics_table = []\n",
    "for name in results:\n",
    "    metrics_table.append([\n",
    "        name,\n",
    "        f\"{results[name]['accuracy']:.4f}\",\n",
    "        f\"{results[name]['precision']:.4f}\",\n",
    "        f\"{results[name]['recall']:.4f}\",\n",
    "        f\"{results[name]['f1']:.4f}\",\n",
    "        f\"{inf_times[name]*1000:.2f} ms\",\n",
    "        \n",
    "    ])\n",
    "\n",
    "df = pd.DataFrame(metrics_table, columns=[\"Model\", \"Accuracy\", \"Precision\", \"Recall\", \"F1-score\", \"Inference Time\"])\n",
    "print(\"\\n=== Model Comparison Table ===\")\n",
    "print(df.to_markdown(index=False))\n",
    "\n",
    "# --- Grouped bar chart for metrics ---\n",
    "metric_names = [\"accuracy\", \"precision\", \"recall\", \"f1\"]\n",
    "x = np.arange(len(results))\n",
    "width = 0.2\n",
    "\n",
    "fig, ax = plt.subplots(figsize=(9, 5))\n",
    "for i, metric in enumerate(metric_names):\n",
    "    vals = [results[name][metric] for name in results]\n",
    "    ax.bar(x + i*width, vals, width, label=metric.capitalize())\n",
    "\n",
    "ax.set_xticks(x + width*1.5)\n",
    "ax.set_xticklabels(list(results.keys()))\n",
    "ax.set_ylim(0, 1)\n",
    "ax.set_ylabel(\"Score\")\n",
    "ax.set_title(\"Model Metrics Comparison\")\n",
    "ax.legend()\n",
    "plt.tight_layout()\n",
    "plt.show()"
   ]
  },
  {
   "cell_type": "markdown",
   "id": "40eee0c5",
   "metadata": {},
   "source": [
    "### **c. Analysis and Improvements**: \n",
    "Analyze deficiencies in the student model's learning. Suggest potential improvements or further research directions."
   ]
  },
  {
   "cell_type": "markdown",
   "id": "60b9eb25",
   "metadata": {},
   "source": [
    "\n",
    "#### **Observed Deficiencies**\n",
    "\n",
    "- **Poor Teacher and Quantized Model Performance:**  \n",
    "  Both the original BERT and Quantized BERT models show low accuracy (63.4%) and F1-score (0.26), the Quantized model is just reducing the inference time apparently, but not improving any of the metrics.\n",
    "\n",
    "- **Student Model Outperforms Teacher:**  \n",
    "  DistilBERT (student) achieves much higher accuracy (92.8%) and F1-score (0.91) than the teacher. This might be due that the Bert fine-tuned model used was the one from 32 samples as we had understood that we should use our \"best trained model\" \n",
    "\n",
    "\n",
    "- **Potential Class Imbalance or Bias:**  \n",
    "  The low precision and recall for BERT and Quantized BERT may indicate class imbalance, mode collapse, or overfitting to dominant classes.\n",
    "\n",
    "---\n",
    "\n",
    "#### **Suggested Improvements & Research Directions**\n",
    "\n",
    "\n",
    "- **Improve Teacher Model Training:**  \n",
    "  Creating a Bert model using all the dataset as it was used for the Distilled Model would probably improve its metrics to a higher level against the Distilled model.\n",
    "\n",
    "- **Data Quality and Augmentation:**  \n",
    "  Increase training data via augmentation (paraphrasing, back-translation, synonym replacement) to improve generalization. Address any class imbalance with class weighting or resampling.\n",
    "\n",
    "- **Quantization-Aware Training:**  \n",
    "  Use quantization-aware training (technique used to simulate the effects of low-precision during the training process) instead of post-training quantization to reduce performance loss in quantized models.\n",
    "\n",
    "\n",
    "- **Error Analysis and Curriculum Learning:**  \n",
    "  Analyze misclassified samples to identify systematic errors or biases. Use curriculum learning to help the student model generalize better, especially on harder examples.\n",
    "\n",
    "---\n",
    "\n",
    "**Summary:**  \n",
    "The student model’s strong performance highlights issues with the teacher’s training and the distillation process. For robust, real-world deployment, focus on true knowledge distillation, better teacher training, data augmentation, and advanced distillation techniques."
   ]
  }
 ],
 "metadata": {
  "kernelspec": {
   "display_name": "textmining",
   "language": "python",
   "name": "python3"
  },
  "language_info": {
   "codemirror_mode": {
    "name": "ipython",
    "version": 3
   },
   "file_extension": ".py",
   "mimetype": "text/x-python",
   "name": "python",
   "nbconvert_exporter": "python",
   "pygments_lexer": "ipython3",
   "version": "3.12.3"
  }
 },
 "nbformat": 4,
 "nbformat_minor": 5
}
