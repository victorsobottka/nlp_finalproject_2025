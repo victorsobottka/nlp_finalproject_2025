{
 "cells": [
  {
   "cell_type": "markdown",
   "id": "5d9ae930",
   "metadata": {},
   "source": [
    "# Market Reaction to Financial News: Train a model on financial news datasets to predict market movements based on news sentiment."
   ]
  },
  {
   "cell_type": "markdown",
   "id": "11be86ee",
   "metadata": {},
   "source": [
    "## 1 - a) State of the Art"
   ]
  },
  {
   "cell_type": "markdown",
   "id": "c51d69a0",
   "metadata": {},
   "source": []
  },
  {
   "cell_type": "markdown",
   "id": "b3946b4a",
   "metadata": {},
   "source": [
    "## 1 - b) Dataset Description"
   ]
  },
  {
   "cell_type": "markdown",
   "id": "1fec9ee4",
   "metadata": {},
   "source": [
    "### ** Description from Hugging Face**\n",
    "\n",
    "Polar sentiment dataset of sentences from financial news. The dataset consists of 4840 sentences from English language financial news categorised by sentiment. The dataset is divided by agreement rate of 5-8 annotators.\n",
    "\n",
    "- 0 Negative\n",
    "- 1 Neutral\n",
    "- 2 Positive\n",
    "\n",
    "### ** Data Splits**\n",
    "\n",
    "There's no train/validation/test split.\n",
    "\n",
    "However the dataset is available in four possible configurations depending on the percentage of agreement of annotators:\n",
    "\n",
    "- `sentences_50agree` Number of instances with >=50% annotator agreement: 4846 \n",
    "- `sentences_66agree` Number of instances with >=66% annotator agreement: 4217 \n",
    "- `sentences_75agree` Number of instances with >=75% annotator agreement: 3453 \n",
    "- `sentences_allagree` Number of instances with 100% annotator agreement: 2264\n",
    "\n",
    "The code below export all splits into csv files:"
   ]
  },
  {
   "cell_type": "code",
   "execution_count": 13,
   "id": "c6a8707a",
   "metadata": {},
   "outputs": [
    {
     "data": {
      "application/vnd.jupyter.widget-view+json": {
       "model_id": "b21c7e6711f64bee925333863c066db3",
       "version_major": 2,
       "version_minor": 0
      },
      "text/plain": [
       "Creating CSV from Arrow format:   0%|          | 0/5 [00:00<?, ?ba/s]"
      ]
     },
     "metadata": {},
     "output_type": "display_data"
    },
    {
     "data": {
      "application/vnd.jupyter.widget-view+json": {
       "model_id": "c88ee835116044e68c304271e85755ed",
       "version_major": 2,
       "version_minor": 0
      },
      "text/plain": [
       "Generating train split:   0%|          | 0/4217 [00:00<?, ? examples/s]"
      ]
     },
     "metadata": {},
     "output_type": "display_data"
    },
    {
     "data": {
      "application/vnd.jupyter.widget-view+json": {
       "model_id": "d6bf079d542c44879b9613571d8c7272",
       "version_major": 2,
       "version_minor": 0
      },
      "text/plain": [
       "Creating CSV from Arrow format:   0%|          | 0/5 [00:00<?, ?ba/s]"
      ]
     },
     "metadata": {},
     "output_type": "display_data"
    },
    {
     "data": {
      "application/vnd.jupyter.widget-view+json": {
       "model_id": "26ac6e8119bf44b5af29684e2d16379a",
       "version_major": 2,
       "version_minor": 0
      },
      "text/plain": [
       "Generating train split:   0%|          | 0/3453 [00:00<?, ? examples/s]"
      ]
     },
     "metadata": {},
     "output_type": "display_data"
    },
    {
     "data": {
      "application/vnd.jupyter.widget-view+json": {
       "model_id": "7060b219a54f466cbd14cf32fee3522d",
       "version_major": 2,
       "version_minor": 0
      },
      "text/plain": [
       "Creating CSV from Arrow format:   0%|          | 0/4 [00:00<?, ?ba/s]"
      ]
     },
     "metadata": {},
     "output_type": "display_data"
    },
    {
     "data": {
      "application/vnd.jupyter.widget-view+json": {
       "model_id": "ad00d0aaa559408781fc16e2139793bc",
       "version_major": 2,
       "version_minor": 0
      },
      "text/plain": [
       "Generating train split:   0%|          | 0/2264 [00:00<?, ? examples/s]"
      ]
     },
     "metadata": {},
     "output_type": "display_data"
    },
    {
     "data": {
      "application/vnd.jupyter.widget-view+json": {
       "model_id": "a8ee5a4638d14bd280d711f2441ead4f",
       "version_major": 2,
       "version_minor": 0
      },
      "text/plain": [
       "Creating CSV from Arrow format:   0%|          | 0/3 [00:00<?, ?ba/s]"
      ]
     },
     "metadata": {},
     "output_type": "display_data"
    }
   ],
   "source": [
    "from datasets import load_dataset\n",
    "\n",
    "splits = [\n",
    "    \"sentences_50agree\",\n",
    "    \"sentences_66agree\",\n",
    "    \"sentences_75agree\",\n",
    "    \"sentences_allagree\"\n",
    "]\n",
    "\n",
    "for split in splits:\n",
    "    ds = load_dataset(\n",
    "        \"takala/financial_phrasebank\",\n",
    "        name=split,     # This is the agreement level\n",
    "        trust_remote_code=True\n",
    "    )\n",
    "\n",
    "    ds['train'].to_csv(f'data/financial_phrasebank_{split}.csv')"
   ]
  },
  {
   "cell_type": "markdown",
   "id": "19e4308e",
   "metadata": {},
   "source": [
    "### ** Load File (financial_phrasebank_sentences_50agree)**"
   ]
  },
  {
   "cell_type": "code",
   "execution_count": 14,
   "id": "d41ef4a0",
   "metadata": {},
   "outputs": [
    {
     "name": "stdout",
     "output_type": "stream",
     "text": [
      "Shape: (4846, 2)\n",
      "Columns: ['sentence', 'label']\n"
     ]
    }
   ],
   "source": [
    "import os\n",
    "import pandas as pd\n",
    "\n",
    "file_path = \"data/financial_phrasebank_sentences_50agree.csv\"\n",
    "df = pd.read_csv(file_path)\n",
    "        \n",
    "print(\"Shape:\", df.shape)\n",
    "print(\"Columns:\", df.columns.tolist())"
   ]
  },
  {
   "cell_type": "markdown",
   "id": "13be1dd3",
   "metadata": {},
   "source": [
    "### Basic Info"
   ]
  },
  {
   "cell_type": "code",
   "execution_count": 15,
   "id": "5dea9dbf",
   "metadata": {},
   "outputs": [
    {
     "data": {
      "application/vnd.microsoft.datawrangler.viewer.v0+json": {
       "columns": [
        {
         "name": "index",
         "rawType": "int64",
         "type": "integer"
        },
        {
         "name": "sentence",
         "rawType": "object",
         "type": "string"
        },
        {
         "name": "label",
         "rawType": "int64",
         "type": "integer"
        }
       ],
       "ref": "ed9b22ea-f9c3-4c39-b761-15544b240ee4",
       "rows": [
        [
         "0",
         "According to Gran , the company has no plans to move all production to Russia , although that is where the company is growing .",
         "1"
        ],
        [
         "1",
         "Technopolis plans to develop in stages an area of no less than 100,000 square meters in order to host companies working in computer technologies and telecommunications , the statement said .",
         "1"
        ],
        [
         "2",
         "The international electronic industry company Elcoteq has laid off tens of employees from its Tallinn facility ; contrary to earlier layoffs the company contracted the ranks of its office workers , the daily Postimees reported .",
         "0"
        ],
        [
         "3",
         "With the new production plant the company would increase its capacity to meet the expected increase in demand and would improve the use of raw materials and therefore increase the production profitability .",
         "2"
        ],
        [
         "4",
         "According to the company 's updated strategy for the years 2009-2012 , Basware targets a long-term net sales growth in the range of 20 % -40 % with an operating profit margin of 10 % -20 % of net sales .",
         "2"
        ]
       ],
       "shape": {
        "columns": 2,
        "rows": 5
       }
      },
      "text/html": [
       "<div>\n",
       "<style scoped>\n",
       "    .dataframe tbody tr th:only-of-type {\n",
       "        vertical-align: middle;\n",
       "    }\n",
       "\n",
       "    .dataframe tbody tr th {\n",
       "        vertical-align: top;\n",
       "    }\n",
       "\n",
       "    .dataframe thead th {\n",
       "        text-align: right;\n",
       "    }\n",
       "</style>\n",
       "<table border=\"1\" class=\"dataframe\">\n",
       "  <thead>\n",
       "    <tr style=\"text-align: right;\">\n",
       "      <th></th>\n",
       "      <th>sentence</th>\n",
       "      <th>label</th>\n",
       "    </tr>\n",
       "  </thead>\n",
       "  <tbody>\n",
       "    <tr>\n",
       "      <th>0</th>\n",
       "      <td>According to Gran , the company has no plans t...</td>\n",
       "      <td>1</td>\n",
       "    </tr>\n",
       "    <tr>\n",
       "      <th>1</th>\n",
       "      <td>Technopolis plans to develop in stages an area...</td>\n",
       "      <td>1</td>\n",
       "    </tr>\n",
       "    <tr>\n",
       "      <th>2</th>\n",
       "      <td>The international electronic industry company ...</td>\n",
       "      <td>0</td>\n",
       "    </tr>\n",
       "    <tr>\n",
       "      <th>3</th>\n",
       "      <td>With the new production plant the company woul...</td>\n",
       "      <td>2</td>\n",
       "    </tr>\n",
       "    <tr>\n",
       "      <th>4</th>\n",
       "      <td>According to the company 's updated strategy f...</td>\n",
       "      <td>2</td>\n",
       "    </tr>\n",
       "  </tbody>\n",
       "</table>\n",
       "</div>"
      ],
      "text/plain": [
       "                                            sentence  label\n",
       "0  According to Gran , the company has no plans t...      1\n",
       "1  Technopolis plans to develop in stages an area...      1\n",
       "2  The international electronic industry company ...      0\n",
       "3  With the new production plant the company woul...      2\n",
       "4  According to the company 's updated strategy f...      2"
      ]
     },
     "execution_count": 15,
     "metadata": {},
     "output_type": "execute_result"
    }
   ],
   "source": [
    "df.head()\n"
   ]
  },
  {
   "cell_type": "code",
   "execution_count": 16,
   "id": "7ca5d29d",
   "metadata": {},
   "outputs": [
    {
     "name": "stdout",
     "output_type": "stream",
     "text": [
      "<class 'pandas.core.frame.DataFrame'>\n",
      "RangeIndex: 4846 entries, 0 to 4845\n",
      "Data columns (total 2 columns):\n",
      " #   Column    Non-Null Count  Dtype \n",
      "---  ------    --------------  ----- \n",
      " 0   sentence  4846 non-null   object\n",
      " 1   label     4846 non-null   int64 \n",
      "dtypes: int64(1), object(1)\n",
      "memory usage: 75.8+ KB\n"
     ]
    }
   ],
   "source": [
    "df.info()"
   ]
  },
  {
   "cell_type": "code",
   "execution_count": 17,
   "id": "e113f839",
   "metadata": {},
   "outputs": [
    {
     "data": {
      "application/vnd.microsoft.datawrangler.viewer.v0+json": {
       "columns": [
        {
         "name": "index",
         "rawType": "object",
         "type": "string"
        },
        {
         "name": "label",
         "rawType": "float64",
         "type": "float"
        }
       ],
       "ref": "5127edcc-2063-40ed-a302-ea4b350f0df6",
       "rows": [
        [
         "count",
         "4846.0"
        ],
        [
         "mean",
         "1.1566240198101527"
        ],
        [
         "std",
         "0.6176159043927842"
        ],
        [
         "min",
         "0.0"
        ],
        [
         "25%",
         "1.0"
        ],
        [
         "50%",
         "1.0"
        ],
        [
         "75%",
         "2.0"
        ],
        [
         "max",
         "2.0"
        ]
       ],
       "shape": {
        "columns": 1,
        "rows": 8
       }
      },
      "text/html": [
       "<div>\n",
       "<style scoped>\n",
       "    .dataframe tbody tr th:only-of-type {\n",
       "        vertical-align: middle;\n",
       "    }\n",
       "\n",
       "    .dataframe tbody tr th {\n",
       "        vertical-align: top;\n",
       "    }\n",
       "\n",
       "    .dataframe thead th {\n",
       "        text-align: right;\n",
       "    }\n",
       "</style>\n",
       "<table border=\"1\" class=\"dataframe\">\n",
       "  <thead>\n",
       "    <tr style=\"text-align: right;\">\n",
       "      <th></th>\n",
       "      <th>label</th>\n",
       "    </tr>\n",
       "  </thead>\n",
       "  <tbody>\n",
       "    <tr>\n",
       "      <th>count</th>\n",
       "      <td>4846.000000</td>\n",
       "    </tr>\n",
       "    <tr>\n",
       "      <th>mean</th>\n",
       "      <td>1.156624</td>\n",
       "    </tr>\n",
       "    <tr>\n",
       "      <th>std</th>\n",
       "      <td>0.617616</td>\n",
       "    </tr>\n",
       "    <tr>\n",
       "      <th>min</th>\n",
       "      <td>0.000000</td>\n",
       "    </tr>\n",
       "    <tr>\n",
       "      <th>25%</th>\n",
       "      <td>1.000000</td>\n",
       "    </tr>\n",
       "    <tr>\n",
       "      <th>50%</th>\n",
       "      <td>1.000000</td>\n",
       "    </tr>\n",
       "    <tr>\n",
       "      <th>75%</th>\n",
       "      <td>2.000000</td>\n",
       "    </tr>\n",
       "    <tr>\n",
       "      <th>max</th>\n",
       "      <td>2.000000</td>\n",
       "    </tr>\n",
       "  </tbody>\n",
       "</table>\n",
       "</div>"
      ],
      "text/plain": [
       "             label\n",
       "count  4846.000000\n",
       "mean      1.156624\n",
       "std       0.617616\n",
       "min       0.000000\n",
       "25%       1.000000\n",
       "50%       1.000000\n",
       "75%       2.000000\n",
       "max       2.000000"
      ]
     },
     "execution_count": 17,
     "metadata": {},
     "output_type": "execute_result"
    }
   ],
   "source": [
    "df.describe()"
   ]
  },
  {
   "cell_type": "markdown",
   "id": "ebaf7423",
   "metadata": {},
   "source": [
    "### **Distribution of Labels**"
   ]
  },
  {
   "cell_type": "markdown",
   "id": "521d0b91",
   "metadata": {},
   "source": [
    "As expected, the dataset is imbalanced, with a higher number of neutral sentences compared to positive and negative ones. This is common in sentiment analysis datasets, especially in financial contexts where neutral (54.9%) statements are more frequent."
   ]
  },
  {
   "cell_type": "code",
   "execution_count": 18,
   "id": "596e8a23",
   "metadata": {},
   "outputs": [
    {
     "data": {
      "application/vnd.microsoft.datawrangler.viewer.v0+json": {
       "columns": [
        {
         "name": "label_name",
         "rawType": "object",
         "type": "string"
        },
        {
         "name": "proportion",
         "rawType": "float64",
         "type": "float"
        }
       ],
       "ref": "52ce77e7-db5a-486f-8d18-470518174376",
       "rows": [
        [
         "Neutral",
         "59.41"
        ],
        [
         "Positive",
         "28.13"
        ],
        [
         "Negative",
         "12.46"
        ]
       ],
       "shape": {
        "columns": 1,
        "rows": 3
       }
      },
      "text/plain": [
       "label_name\n",
       "Neutral     59.41\n",
       "Positive    28.13\n",
       "Negative    12.46\n",
       "Name: proportion, dtype: float64"
      ]
     },
     "execution_count": 18,
     "metadata": {},
     "output_type": "execute_result"
    }
   ],
   "source": [
    "# Map numeric labels to sentiment names\n",
    "label_map = {0: \"Negative\", 1: \"Neutral\", 2: \"Positive\"}\n",
    "df['label_name'] = df['label'].map(label_map)\n",
    "\n",
    "percentages = df['label_name'].value_counts(normalize=True) * 100\n",
    "percentages.round(2)"
   ]
  },
  {
   "cell_type": "code",
   "execution_count": 19,
   "id": "0d3dfdf3",
   "metadata": {},
   "outputs": [
    {
     "data": {
      "image/png": "[encoded data removed]",
      "text/plain": [
       "<Figure size 640x480 with 1 Axes>"
      ]
     },
     "metadata": {},
     "output_type": "display_data"
    }
   ],
   "source": [
    "import seaborn as sns\n",
    "import matplotlib.pyplot as plt\n",
    "\n",
    "\n",
    "\n",
    "\n",
    "sns.countplot(data=df, x='label_name')\n",
    "sns.set(style=\"whitegrid\")\n",
    "plt.title('Distribution of Labels')\n",
    "plt.xlabel('Label')\n",
    "plt.ylabel('Count')\n",
    "plt.show()"
   ]
  },
  {
   "cell_type": "code",
   "execution_count": 1,
   "id": "b59798c7",
   "metadata": {},
   "outputs": [],
   "source": [
    "from datasets import load_dataset\n",
    "\n",
    "dataset_50agree = load_dataset(\"takala/financial_phrasebank\", 'sentences_50agree', trust_remote_code=True)"
   ]
  },
  {
   "cell_type": "markdown",
   "id": "c20f161c",
   "metadata": {},
   "source": [
    "### **Most frequent words**"
   ]
  },
  {
   "cell_type": "markdown",
   "id": "9884cb69",
   "metadata": {},
   "source": [
    "The more frequent words in the dataset correspond to the most frequent words in the English language, such as \"the\", \"and\", \"to\", \"of\", etc. So we can perfom a stopword removal to focus on the more meaningful words in the dataset."
   ]
  },
  {
   "cell_type": "code",
   "execution_count": 20,
   "id": "2d3a629e",
   "metadata": {},
   "outputs": [
    {
     "data": {
      "text/plain": [
       "Text(0.5, 0, 'Words')"
      ]
     },
     "execution_count": 20,
     "metadata": {},
     "output_type": "execute_result"
    },
    {
     "data": {
      "image/png": "[encoded data removed]",
      "text/plain": [
       "<Figure size 1200x600 with 1 Axes>"
      ]
     },
     "metadata": {},
     "output_type": "display_data"
    }
   ],
   "source": [
    "import pandas as pd\n",
    "from collections import Counter\n",
    "import re\n",
    "\n",
    "# Tokenization: split sentences into words, convert to lowercase, and remove unwanted characters\n",
    "def tokenize(text):\n",
    "    # Converts text to lowercase and extracts words only (ignores numbers and punctuation)\n",
    "    return re.findall(r'\\b[a-záéíóúüñ]+\\b', text.lower())\n",
    "\n",
    "all_words = []\n",
    "for sentence in df['sentence']:\n",
    "    all_words.extend(tokenize(sentence))\n",
    "\n",
    "# Count word frequency\n",
    "counter = Counter(all_words)\n",
    "most_common = counter.most_common(20)  # Top 20 most frequent words\n",
    "\n",
    "plt.figure(figsize=(12, 6))\n",
    "vertical = True  # Set to True for vertical bars, False for horizontal\n",
    "if vertical:\n",
    "    sns.set_style(style=\"whitegrid\")  \n",
    "sns.barplot(y=[word for word, freq in most_common], x=[freq for word, freq in most_common])\n",
    "\n",
    "plt.title('Top 20 Most Frequent Words')\n",
    "plt.xlabel('Words')     \n"
   ]
  },
  {
   "cell_type": "markdown",
   "id": "50ff1382",
   "metadata": {},
   "source": [
    "### **Most frequent words without stopwords**"
   ]
  },
  {
   "cell_type": "markdown",
   "id": "556d47b6",
   "metadata": {},
   "source": [
    "After applying stopwords removal, we can visualize the most common words again. This time, we will find words like eur, sales, and other financial terms that are more relevant to the dataset.\n",
    "\n",
    "Finding eur instead of dollars or USD, shows that  the dataset is probably more focus on European financial."
   ]
  },
  {
   "cell_type": "code",
   "execution_count": 21,
   "id": "f9cd7b1e",
   "metadata": {},
   "outputs": [
    {
     "name": "stderr",
     "output_type": "stream",
     "text": [
      "[nltk_data] Downloading package stopwords to\n",
      "[nltk_data]     /home/sobottka/nltk_data...\n",
      "[nltk_data]   Package stopwords is already up-to-date!\n"
     ]
    },
    {
     "data": {
      "text/plain": [
       "Text(0.5, 0, 'Words')"
      ]
     },
     "execution_count": 21,
     "metadata": {},
     "output_type": "execute_result"
    },
    {
     "data": {
      "image/png": "[encoded data removed]",
      "text/plain": [
       "<Figure size 1200x600 with 1 Axes>"
      ]
     },
     "metadata": {},
     "output_type": "display_data"
    }
   ],
   "source": [
    "from nltk.corpus import stopwords\n",
    "import nltk\n",
    "nltk.download('stopwords')\n",
    "\n",
    "# Get list of English stopwords\n",
    "stop_words = set(stopwords.words('english'))\n",
    "\n",
    "# Filter out stopwords from the word list\n",
    "filtered_words = [w for w in all_words if w not in stop_words]\n",
    "filtered_counter = Counter(filtered_words)\n",
    "most_common_filtered = filtered_counter.most_common(20)\n",
    "\n",
    "plt.figure(figsize=(12, 6))\n",
    "vertical = True  # Set to True for vertical bars, False for horizontal\n",
    "if vertical:\n",
    "    sns.set_style(style=\"whitegrid\")  \n",
    "sns.barplot(y=[word for word, freq in most_common_filtered], x=[freq for word, freq in most_common_filtered])\n",
    "\n",
    "plt.title('Top 20 Most Frequent Words without Stopwords')\n",
    "plt.xlabel('Words')     \n"
   ]
  },
  {
   "cell_type": "markdown",
   "id": "06aab501",
   "metadata": {},
   "source": [
    "## 1 - c) Random Classifier Performance"
   ]
  },
  {
   "cell_type": "code",
   "execution_count": 2,
   "id": "e39c54b0",
   "metadata": {},
   "outputs": [],
   "source": [
    "import pandas as pd\n",
    "import numpy as np\n",
    "import matplotlib.pyplot as plt\n",
    "import seaborn as sns\n",
    "import nltk\n",
    "from nltk import word_tokenize\n",
    "from nltk.corpus import stopwords\n",
    "from nltk.stem import WordNetLemmatizer\n",
    "from nltk.util import ngrams\n",
    "from sklearn.feature_extraction.text import CountVectorizer\n",
    "from sklearn.model_selection import train_test_split\n",
    "from sklearn.metrics import classification_report, confusion_matrix\n",
    "from sklearn.naive_bayes import MultinomialNB\n",
    "from sklearn.pipeline import make_pipeline\n",
    "from sklearn.preprocessing import FunctionTransformer\n",
    "from sklearn.compose import ColumnTransformer\n",
    "from sklearn.impute import SimpleImputer\n",
    "from sklearn.feature_extraction.text import TfidfVectorizer\n",
    "from sklearn.linear_model import LogisticRegression\n",
    "from sklearn.ensemble import RandomForestClassifier\n",
    "from sklearn.svm import SVC\n",
    "from sklearn.tree import DecisionTreeClassifier\n",
    "from sklearn.neighbors import KNeighborsClassifier"
   ]
  },
  {
   "cell_type": "code",
   "execution_count": 3,
   "id": "276d5c71",
   "metadata": {},
   "outputs": [
    {
     "data": {
      "text/plain": [
       "DatasetDict({\n",
       "    train: Dataset({\n",
       "        features: ['sentence', 'label'],\n",
       "        num_rows: 4846\n",
       "    })\n",
       "})"
      ]
     },
     "execution_count": 3,
     "metadata": {},
     "output_type": "execute_result"
    }
   ],
   "source": [
    "dataset_50agree"
   ]
  },
  {
   "cell_type": "code",
   "execution_count": 4,
   "id": "fa49ecf8",
   "metadata": {},
   "outputs": [],
   "source": [
    "df_50agree = pd.DataFrame(dataset_50agree['train'])"
   ]
  },
  {
   "cell_type": "code",
   "execution_count": 5,
   "id": "e621487c",
   "metadata": {},
   "outputs": [
    {
     "data": {
      "application/vnd.microsoft.datawrangler.viewer.v0+json": {
       "columns": [
        {
         "name": "index",
         "rawType": "int64",
         "type": "integer"
        },
        {
         "name": "sentence",
         "rawType": "object",
         "type": "string"
        },
        {
         "name": "label",
         "rawType": "int64",
         "type": "integer"
        }
       ],
       "ref": "ae294a0e-60be-4f0a-b46c-bb46ab58b8a1",
       "rows": [
        [
         "0",
         "According to Gran , the company has no plans to move all production to Russia , although that is where the company is growing .",
         "1"
        ],
        [
         "1",
         "Technopolis plans to develop in stages an area of no less than 100,000 square meters in order to host companies working in computer technologies and telecommunications , the statement said .",
         "1"
        ],
        [
         "2",
         "The international electronic industry company Elcoteq has laid off tens of employees from its Tallinn facility ; contrary to earlier layoffs the company contracted the ranks of its office workers , the daily Postimees reported .",
         "0"
        ],
        [
         "3",
         "With the new production plant the company would increase its capacity to meet the expected increase in demand and would improve the use of raw materials and therefore increase the production profitability .",
         "2"
        ],
        [
         "4",
         "According to the company 's updated strategy for the years 2009-2012 , Basware targets a long-term net sales growth in the range of 20 % -40 % with an operating profit margin of 10 % -20 % of net sales .",
         "2"
        ]
       ],
       "shape": {
        "columns": 2,
        "rows": 5
       }
      },
      "text/html": [
       "<div>\n",
       "<style scoped>\n",
       "    .dataframe tbody tr th:only-of-type {\n",
       "        vertical-align: middle;\n",
       "    }\n",
       "\n",
       "    .dataframe tbody tr th {\n",
       "        vertical-align: top;\n",
       "    }\n",
       "\n",
       "    .dataframe thead th {\n",
       "        text-align: right;\n",
       "    }\n",
       "</style>\n",
       "<table border=\"1\" class=\"dataframe\">\n",
       "  <thead>\n",
       "    <tr style=\"text-align: right;\">\n",
       "      <th></th>\n",
       "      <th>sentence</th>\n",
       "      <th>label</th>\n",
       "    </tr>\n",
       "  </thead>\n",
       "  <tbody>\n",
       "    <tr>\n",
       "      <th>0</th>\n",
       "      <td>According to Gran , the company has no plans t...</td>\n",
       "      <td>1</td>\n",
       "    </tr>\n",
       "    <tr>\n",
       "      <th>1</th>\n",
       "      <td>Technopolis plans to develop in stages an area...</td>\n",
       "      <td>1</td>\n",
       "    </tr>\n",
       "    <tr>\n",
       "      <th>2</th>\n",
       "      <td>The international electronic industry company ...</td>\n",
       "      <td>0</td>\n",
       "    </tr>\n",
       "    <tr>\n",
       "      <th>3</th>\n",
       "      <td>With the new production plant the company woul...</td>\n",
       "      <td>2</td>\n",
       "    </tr>\n",
       "    <tr>\n",
       "      <th>4</th>\n",
       "      <td>According to the company 's updated strategy f...</td>\n",
       "      <td>2</td>\n",
       "    </tr>\n",
       "  </tbody>\n",
       "</table>\n",
       "</div>"
      ],
      "text/plain": [
       "                                            sentence  label\n",
       "0  According to Gran , the company has no plans t...      1\n",
       "1  Technopolis plans to develop in stages an area...      1\n",
       "2  The international electronic industry company ...      0\n",
       "3  With the new production plant the company woul...      2\n",
       "4  According to the company 's updated strategy f...      2"
      ]
     },
     "execution_count": 5,
     "metadata": {},
     "output_type": "execute_result"
    }
   ],
   "source": [
    "df_50agree.head()"
   ]
  },
  {
   "cell_type": "code",
   "execution_count": 6,
   "id": "3e379f7d",
   "metadata": {},
   "outputs": [],
   "source": [
    "grouped_df = df_50agree.groupby('label').size().reset_index(name='count')"
   ]
  },
  {
   "cell_type": "code",
   "execution_count": 7,
   "id": "e62d20b6",
   "metadata": {},
   "outputs": [
    {
     "data": {
      "application/vnd.microsoft.datawrangler.viewer.v0+json": {
       "columns": [
        {
         "name": "index",
         "rawType": "int64",
         "type": "integer"
        },
        {
         "name": "label",
         "rawType": "int64",
         "type": "integer"
        },
        {
         "name": "count",
         "rawType": "int64",
         "type": "integer"
        }
       ],
       "ref": "852008bf-7af4-4b74-b0b2-7a6435b14357",
       "rows": [
        [
         "0",
         "0",
         "604"
        ],
        [
         "1",
         "1",
         "2879"
        ],
        [
         "2",
         "2",
         "1363"
        ]
       ],
       "shape": {
        "columns": 2,
        "rows": 3
       }
      },
      "text/html": [
       "<div>\n",
       "<style scoped>\n",
       "    .dataframe tbody tr th:only-of-type {\n",
       "        vertical-align: middle;\n",
       "    }\n",
       "\n",
       "    .dataframe tbody tr th {\n",
       "        vertical-align: top;\n",
       "    }\n",
       "\n",
       "    .dataframe thead th {\n",
       "        text-align: right;\n",
       "    }\n",
       "</style>\n",
       "<table border=\"1\" class=\"dataframe\">\n",
       "  <thead>\n",
       "    <tr style=\"text-align: right;\">\n",
       "      <th></th>\n",
       "      <th>label</th>\n",
       "      <th>count</th>\n",
       "    </tr>\n",
       "  </thead>\n",
       "  <tbody>\n",
       "    <tr>\n",
       "      <th>0</th>\n",
       "      <td>0</td>\n",
       "      <td>604</td>\n",
       "    </tr>\n",
       "    <tr>\n",
       "      <th>1</th>\n",
       "      <td>1</td>\n",
       "      <td>2879</td>\n",
       "    </tr>\n",
       "    <tr>\n",
       "      <th>2</th>\n",
       "      <td>2</td>\n",
       "      <td>1363</td>\n",
       "    </tr>\n",
       "  </tbody>\n",
       "</table>\n",
       "</div>"
      ],
      "text/plain": [
       "   label  count\n",
       "0      0    604\n",
       "1      1   2879\n",
       "2      2   1363"
      ]
     },
     "execution_count": 7,
     "metadata": {},
     "output_type": "execute_result"
    }
   ],
   "source": [
    "grouped_df"
   ]
  },
  {
   "cell_type": "code",
   "execution_count": 8,
   "id": "7511deb3",
   "metadata": {},
   "outputs": [],
   "source": [
    "total_count = grouped_df['count'].sum()"
   ]
  },
  {
   "cell_type": "code",
   "execution_count": 9,
   "id": "b4cbfeca",
   "metadata": {},
   "outputs": [],
   "source": [
    "# Convert counts to probabilities (empirical distribution)\n",
    "grouped_df['Probability'] = (grouped_df['count'] / total_count)"
   ]
  },
  {
   "cell_type": "code",
   "execution_count": 10,
   "id": "72bfb0f1",
   "metadata": {},
   "outputs": [
    {
     "data": {
      "application/vnd.microsoft.datawrangler.viewer.v0+json": {
       "columns": [
        {
         "name": "index",
         "rawType": "int64",
         "type": "integer"
        },
        {
         "name": "label",
         "rawType": "int64",
         "type": "integer"
        },
        {
         "name": "count",
         "rawType": "int64",
         "type": "integer"
        },
        {
         "name": "Probability",
         "rawType": "float64",
         "type": "float"
        }
       ],
       "ref": "8b732e59-e399-4481-a6f5-e91daee9dc61",
       "rows": [
        [
         "0",
         "0",
         "604",
         "0.12463887742468015"
        ],
        [
         "1",
         "1",
         "2879",
         "0.594098225340487"
        ],
        [
         "2",
         "2",
         "1363",
         "0.28126289723483283"
        ]
       ],
       "shape": {
        "columns": 3,
        "rows": 3
       }
      },
      "text/html": [
       "<div>\n",
       "<style scoped>\n",
       "    .dataframe tbody tr th:only-of-type {\n",
       "        vertical-align: middle;\n",
       "    }\n",
       "\n",
       "    .dataframe tbody tr th {\n",
       "        vertical-align: top;\n",
       "    }\n",
       "\n",
       "    .dataframe thead th {\n",
       "        text-align: right;\n",
       "    }\n",
       "</style>\n",
       "<table border=\"1\" class=\"dataframe\">\n",
       "  <thead>\n",
       "    <tr style=\"text-align: right;\">\n",
       "      <th></th>\n",
       "      <th>label</th>\n",
       "      <th>count</th>\n",
       "      <th>Probability</th>\n",
       "    </tr>\n",
       "  </thead>\n",
       "  <tbody>\n",
       "    <tr>\n",
       "      <th>0</th>\n",
       "      <td>0</td>\n",
       "      <td>604</td>\n",
       "      <td>0.124639</td>\n",
       "    </tr>\n",
       "    <tr>\n",
       "      <th>1</th>\n",
       "      <td>1</td>\n",
       "      <td>2879</td>\n",
       "      <td>0.594098</td>\n",
       "    </tr>\n",
       "    <tr>\n",
       "      <th>2</th>\n",
       "      <td>2</td>\n",
       "      <td>1363</td>\n",
       "      <td>0.281263</td>\n",
       "    </tr>\n",
       "  </tbody>\n",
       "</table>\n",
       "</div>"
      ],
      "text/plain": [
       "   label  count  Probability\n",
       "0      0    604     0.124639\n",
       "1      1   2879     0.594098\n",
       "2      2   1363     0.281263"
      ]
     },
     "execution_count": 10,
     "metadata": {},
     "output_type": "execute_result"
    }
   ],
   "source": [
    "grouped_df"
   ]
  },
  {
   "cell_type": "markdown",
   "id": "052d815a",
   "metadata": {},
   "source": [
    "Expected Accuracy = Probability of Correct Guess\n",
    "\n",
    "To be correct, the randomly guessed label must match the true label. Let's compute the expected probability of that happening:\n",
    "\n",
    "For each class i:\n",
    "\n",
    "    The probability that a sample has label i is pᵢ\n",
    "\n",
    "    The probability the classifier predicts label i is also pᵢ\n",
    "\n",
    "    So, the probability of correctly predicting class i is:\n",
    "    → pᵢ × pᵢ = pᵢ²"
   ]
  },
  {
   "cell_type": "code",
   "execution_count": 11,
   "id": "41a4232f",
   "metadata": {},
   "outputs": [
    {
     "name": "stdout",
     "output_type": "stream",
     "text": [
      "The expected accuracy of a random classifier (weighted) is: 44.76%\n",
      "The expected accuracy of a random classifier (uniform) is: 33.33%\n"
     ]
    }
   ],
   "source": [
    "#Weighted random Classifier\n",
    "expected_accuracy = np.array(np.sum(grouped_df['Probability']**2))\n",
    "print(f\"The expected accuracy of a random classifier (weighted) is: {expected_accuracy*100:.4}%\")\n",
    "\n",
    "#Uniform random Classifier\n",
    "uniform_accuracy = 1/ len(grouped_df['Probability'])\n",
    "print(f\"The expected accuracy of a random classifier (uniform) is: {uniform_accuracy*100:.4}%\")"
   ]
  },
  {
   "cell_type": "markdown",
   "id": "2afdf6d2",
   "metadata": {},
   "source": [
    "## 1 - d) Baseline Implementation"
   ]
  },
  {
   "cell_type": "code",
   "execution_count": 22,
   "id": "7e975ee6",
   "metadata": {},
   "outputs": [],
   "source": [
    "positive_keywords = [\"gain\", \"profit\", \"growth\", \"rise\", \"increased\", \"strong\", \"boost\", \"positive\"]\n",
    "negative_keywords = [\"loss\", \"decline\", \"drop\", \"decreased\", \"weak\", \"fall\", \"negative\"]\n"
   ]
  },
  {
   "cell_type": "code",
   "execution_count": 23,
   "id": "b5530522",
   "metadata": {},
   "outputs": [
    {
     "name": "stdout",
     "output_type": "stream",
     "text": [
      "              precision    recall  f1-score   support\n",
      "\n",
      "    Negative       0.59      0.16      0.25       604\n",
      "     Neutral       0.67      0.96      0.79      2879\n",
      "    Positive       0.56      0.24      0.34      1363\n",
      "\n",
      "    accuracy                           0.66      4846\n",
      "   macro avg       0.61      0.45      0.46      4846\n",
      "weighted avg       0.63      0.66      0.60      4846\n",
      "\n"
     ]
    }
   ],
   "source": [
    "from datasets import load_dataset\n",
    "from sklearn.metrics import classification_report\n",
    "import re\n",
    "\n",
    "# Load data\n",
    "dataset = load_dataset(\"takala/financial_phrasebank\", \"sentences_50agree\", trust_remote_code=True)\n",
    "data = dataset['train']\n",
    "\n",
    "# Define keyword rules\n",
    "positive_keywords = [\"gain\", \"profit\", \"growth\", \"rise\", \"increased\", \"strong\", \"boost\", \"positive\"]\n",
    "negative_keywords = [\"loss\", \"decline\", \"drop\", \"decreased\", \"weak\", \"fall\", \"negative\"]\n",
    "\n",
    "def classify(sentence):\n",
    "    sentence = sentence.lower()\n",
    "    if any(re.search(rf\"\\b{word}\\b\", sentence) for word in positive_keywords):\n",
    "        return 2\n",
    "    elif any(re.search(rf\"\\b{word}\\b\", sentence) for word in negative_keywords):\n",
    "        return 0\n",
    "    else:\n",
    "        return 1\n",
    "\n",
    "# Predict using rules\n",
    "y_true = data['label']\n",
    "y_pred = [classify(s) for s in data['sentence']]\n",
    "\n",
    "# Evaluate\n",
    "print(classification_report(y_true, y_pred, target_names=[\"Negative\", \"Neutral\", \"Positive\"]))\n"
   ]
  },
  {
   "cell_type": "code",
   "execution_count": 12,
   "id": "67ffcff1",
   "metadata": {},
   "outputs": [
    {
     "data": {
      "application/vnd.microsoft.datawrangler.viewer.v0+json": {
       "columns": [
        {
         "name": "index",
         "rawType": "int64",
         "type": "integer"
        },
        {
         "name": "sentence",
         "rawType": "object",
         "type": "string"
        },
        {
         "name": "label",
         "rawType": "int64",
         "type": "integer"
        }
       ],
       "ref": "75957fc2-df45-4019-8791-462e41d22ce8",
       "rows": [
        [
         "3741",
         "'s Outokumpu Technology business will begin trading on the Nordic Exchange in Helsinki starting Oct. 10 , becoming the sixth company to list on that exchange this year , the company said Friday .",
         "1"
        ],
        [
         "3012",
         "( A spokesperson told WWD to expect a 50-50 mix of clothing and home decor . )",
         "1"
        ],
        [
         "591",
         "( ADP News ) - Dec 11 , 2008 - Finnish construction and engineering company Outotec Oyj ( OMX : OTE1V ) said today it won a EUR 28 million ( USD 36.8 m ) order to expand the phosphate concentrator in Siilinjarvi of Norwegian minera",
         "2"
        ],
        [
         "3013",
         "( ADP News ) - Dec 11 , 2008 - Finnish power-supply solutions provider Efore Oyj ( OMX : EFO1V ) said yesterday it opened a technology research and development ( R&D ) laboratory at Helsinki University of Technology .",
         "1"
        ],
        [
         "227",
         "( ADP News ) - Feb 11 , 2009 - Finnish management software solutions provider Ixonos Oyj ( HEL : XNS1V ) said today its net profit rose to EUR 3.5 million ( USD 4.5 m ) for 2008 from EUR 3.1 million for 2007 .",
         "2"
        ],
        [
         "4684",
         "( ADP News ) - Feb 11 , 2009 - Finnish wood products technology supplier Raute Oyj ( HEL : RUTAV ) said today its net profit decreased to EUR 4.7 million ( USD 6.1 m ) for 2008 from EUR 6.6 million for 2007 .",
         "0"
        ],
        [
         "228",
         "( ADP News ) - Feb 12 , 2009 - Finnish IT solutions provider Affecto Oyj ( HEL : AFE1V ) said today its net profit rose to EUR 8.5 million ( USD 11m ) in 2008 from EUR 7 million in 2007 .",
         "2"
        ],
        [
         "4685",
         "( ADP News ) - Feb 12 , 2009 - Finnish construction company Lemminkainen Oyj ( HEL : LEM1S ) said today its net profit decreased to EUR 63.5 million ( USD 81.1 m ) for 2008 from EUR 80.6 million for 2007 .",
         "0"
        ],
        [
         "4686",
         "( ADP News ) - Feb 4 , 2009 - Finnish broadband data communication systems and solutions company Teleste Oyj ( HEL : TLT1V ) said today its net profit decreased to EUR 5.5 million ( USD 7.2 m ) for 2008 from EUR 9.4 million for 200",
         "0"
        ],
        [
         "229",
         "( ADP News ) - Feb 6 , 2009 - Finnish fishing tackle company Rapala VMC Corp ( HEL : RAP1V ) said today its net profit rose to EUR 19.2 million ( USD 24.6 m ) for 2008 from EUR 17.5 million for 2007 .",
         "2"
        ],
        [
         "650",
         "( ADP News ) - Feb 9 , 2009 - Finnish computer services company Proha Oyj ( HEL : ART1V ) said today its net loss narrowed to EUR 113,000 ( USD 146,000 ) for 2008 from EUR 1.2 million for 2007 .",
         "2"
        ],
        [
         "1752",
         "( ADP News ) - Finnish handling systems provider Cargotec Oyj ( HEL : CGCBV ) announced on Friday it won orders worth EUR 10 million ( USD 13.2 m ) to deliver linkspans to Jordan , Morocco and Ireland .",
         "2"
        ],
        [
         "4687",
         "( ADP News ) - Jan 22 , 2009 - Finnish mobile phones maker Nokia Oyj ( OMX : NOK1V ) said today its operating profit decreased to EUR 5 billion ( USD 6.5 bn ) for 2008 from EUR 8 billion for 2007 .",
         "0"
        ],
        [
         "4215",
         "( ADP News ) - Jan 27 , 2009 - Finnish industrial machinery company Vaahto Group Ltd Oyj ( HEL : WAT1S ) said today that its subsidiary Vaahto Ltd would cut 15 jobs in Finland .",
         "0"
        ],
        [
         "3014",
         "( ADP News ) - Nov 28 , 2008 - Finnish power-supply solutions provider Efore Oyj ( OMX : EFO1V ) announced today the launch of OPUS DC , the latest power system in its OPUS product line .",
         "2"
        ],
        [
         "3015",
         "( ADP News ) - Nov 3 , 2008 - Finnish cargo handling systems and services company Cargotec Oyj ( OMX : CGCBV ) said today that it acquired 80 % stakes in Italian service companies CVS Technoports Srl and CVS Service Srl from Italian handli",
         "2"
        ],
        [
         "3016",
         "( ADP News ) - Nov 3 , 2008 - Finnish paper , packaging and forest products company Stora Enso Oyj ( OMX : STERV ) said today that it would invest EUR 137 million ( USD 176.6 m ) in the building of a power plant at its Ostroleka Mi",
         "1"
        ],
        [
         "230",
         "( ADP News ) - Nov 5 , 2008 - Finnish electronic measurement products and solutions maker Vaisala Oyj ( OMX : VAIAS ) said today that its net profit rose to EUR 18 million ( USD 23.1 m ) for the first nine months of 2008 from EUR 1",
         "2"
        ],
        [
         "860",
         "( ADP News ) - Oct 1 , 2008 - Finnish consulting and engineering company Poyry Oyj ( OMX : POY1V ) said today it was awarded a EUR 5.2 million ( USD 7.4 m ) extension to their existing consultancy engineering contract with Venezuel",
         "2"
        ],
        [
         "231",
         "( ADP News ) - Oct 29 , 2008 - Finnish lifting equipment maker Konecranes Oyj ( OMX : KCR1V ) said today that its net profit rose to EUR 116.6 million ( USD 149.1 m ) in the first nine months of 2008 from EUR 73.6 million for the s",
         "2"
        ],
        [
         "861",
         "( ADP News ) - Oct 31 , 2008 - Finnish food company Raisio Oyj ( OMX : RAIVV ) said today that its net profit jumped to EUR 16.4 million ( USD 20.9 m ) for the first nine months of 2008 from EUR 1.1 million for the same period of 2",
         "2"
        ],
        [
         "862",
         "( ADP News ) - Sep 30 , 2008 - Finnish security and privacy software solutions developer Stonesoft Oyj said today that it won a USD 1.9 million ( EUR 1.3 m ) order to deliver its StoneGate network security products to an unnamed Russian te",
         "2"
        ],
        [
         "4216",
         "( ADPnews ) - Dec 1 , 2009 - Finnish cutlery and hand tools maker Fiskars Oyj Abp ( HEL : FISAS ) said today that it will make redundant a total of 18 office and management staff members of its subsidiary Iittala Group Ltd. .",
         "0"
        ],
        [
         "4217",
         "( ADPnews ) - Dec 30 , 2009 - Finnish investment group Neomarkka Oyj ( HEL : NEMBV ) said today that it will furlough employee in its unit Reka Cables Ltd for less than 90 days , starting in January 2010 .",
         "1"
        ],
        [
         "670",
         "( ADPnews ) - Feb 3 , 2010 - Finland-based steel maker Rautaruukki Oyj ( HEL : RTRKS ) , or Ruukki , said today it slipped to a larger-than-expected pretax loss of EUR 46 million ( USD 64.5 m ) in the fourth quarter of 2009 from a",
         "0"
        ],
        [
         "4688",
         "( ADPnews ) - May 4 , 2010 - Finnish cutlery and hand tools maker Fiskars Oyj Abp ( HEL : FISAS ) said today its net profit declined to EUR 12.9 million ( USD 17m ) in the first quarter of 2010 from EUR 17 million in the correspond",
         "0"
        ],
        [
         "3017",
         "( ADPnews ) - Nov 9 , 2009 - Four companies have agreed to buy for a combined SEK 5.9 billion ( USD 854m-EUR 571.8 m ) all drug stores offered for sale as part of the restructuring of Swedish stated-owned pharmacy monopoly Apoteket AB , t",
         "2"
        ],
        [
         "4689",
         "( ADPnews ) - Oct 21 , 2009 - Finland-based IT consultancy Tieto Oyj ( HEL : TIE1V ) said today its net profit plunged to EUR 29.4 million ( USD 43.9 m ) for the first nine months of 2009 from EUR 58.7 million for the same period o",
         "0"
        ],
        [
         "21",
         "( Filippova ) A trilateral agreement on investment in the construction of a technology park in St Petersburg was to have been signed in the course of the forum , Days of the Russian Economy , that opened in Helsinki today .",
         "2"
        ],
        [
         "1282",
         "( I&H ) in a move to enhance growth .",
         "2"
        ],
        [
         "3018",
         "( The acquisition sum has not been disclosed . )",
         "1"
        ],
        [
         "2725",
         "+£lemiste City is the environment for a knowledge-based economy providing work for 3,300 people with the total turnover of its companies amounting to EEK 5.4 bn , '' said +£lo P+ñrnits , chairman of the supervisory board of +£lemiste City and Mainor .",
         "1"
        ],
        [
         "4620",
         "- Among other Finnish shares traded in the US , Stora Enso closed 0.33 pct lower at 12.11 eur , UPM-Kymmene was up 0.28 pct at 18.10 eur , and Metso was down 0.13 pct at 31.06 eur .",
         "1"
        ],
        [
         "463",
         "- BEIJING XFN-ASIA - Hong Kong-listed Standard Chartered Bank said it has signed a China mobile phone dealer financing agreement with Nokia , making it the first foreign bank to offer financing to the country 's small and medium enterprise -LR",
         "2"
        ],
        [
         "3466",
         "- Cash flow from operating activities before investments was EUR 0.8 -1.2 million .",
         "1"
        ],
        [
         "3467",
         "- Cash flow from operating activities before investments was EUR 7.6 million EUR 2.5 million .",
         "1"
        ],
        [
         "1973",
         "- Counter your competitor 's strengths and target their weaknesses .",
         "1"
        ],
        [
         "4782",
         "- Demand for fireplace products was lower than expected , especially in Germany .",
         "0"
        ],
        [
         "1823",
         "- I am pleased that Bjorn Wahlroos has accepted the nomination .",
         "2"
        ],
        [
         "2322",
         "- Inge Larsen (CFO), 29,045 shares , representing 0.50 % of the share capital .",
         "1"
        ],
        [
         "2259",
         "- Moody 's said it gave P A1 long-term senior unsecured and P P-1 short-term debt ratings to Finnish lender Aktia Bank 's EUR1bn USD1 .4 bn euro medium-term note EMTN program of 25 March 2011 .",
         "1"
        ],
        [
         "4634",
         "- Net sales for the period are expected to fall well below that of last year and the result after non-recurring items is expected to be in the red .",
         "0"
        ],
        [
         "134",
         "- Operating profit rose by 26.9 % to EUR 105.8 ( 83.4 ) million .",
         "2"
        ],
        [
         "3469",
         "- Profit before taxes was EUR 105.9 82.7 million .",
         "1"
        ],
        [
         "464",
         "- Provides summary of the medical equipment pipeline products that the company is developing .",
         "1"
        ],
        [
         "71",
         "- So , the sales growth of cars considerably influence on the tires market '' .",
         "1"
        ],
        [
         "4000",
         "- The Group 's sales during the period were EUR 37.5 million ( EUR 48.2 million , 1-9/2008 ) and result before taxes was a loss of EUR -3.5 ( +1.2 ) million .",
         "0"
        ],
        [
         "3470",
         "- The Group -¦ s cumulative sales during the review period were EUR 48.2 million EUR 53.1 million , 1-9/2007 and profit before taxes was EUR 1.2 1.4 million .",
         "1"
        ],
        [
         "3471",
         "- The Group -¦ s profit before taxes was EUR 0,2 7,8 million .",
         "1"
        ],
        [
         "3999",
         "- The Group -¦ s result before taxes was EUR -1.9 ( -3.0 ) million .",
         "0"
        ]
       ],
       "shape": {
        "columns": 2,
        "rows": 100
       }
      },
      "text/html": [
       "<div>\n",
       "<style scoped>\n",
       "    .dataframe tbody tr th:only-of-type {\n",
       "        vertical-align: middle;\n",
       "    }\n",
       "\n",
       "    .dataframe tbody tr th {\n",
       "        vertical-align: top;\n",
       "    }\n",
       "\n",
       "    .dataframe thead th {\n",
       "        text-align: right;\n",
       "    }\n",
       "</style>\n",
       "<table border=\"1\" class=\"dataframe\">\n",
       "  <thead>\n",
       "    <tr style=\"text-align: right;\">\n",
       "      <th></th>\n",
       "      <th>sentence</th>\n",
       "      <th>label</th>\n",
       "    </tr>\n",
       "  </thead>\n",
       "  <tbody>\n",
       "    <tr>\n",
       "      <th>3741</th>\n",
       "      <td>'s Outokumpu Technology business will begin tr...</td>\n",
       "      <td>1</td>\n",
       "    </tr>\n",
       "    <tr>\n",
       "      <th>3012</th>\n",
       "      <td>( A spokesperson told WWD to expect a 50-50 mi...</td>\n",
       "      <td>1</td>\n",
       "    </tr>\n",
       "    <tr>\n",
       "      <th>591</th>\n",
       "      <td>( ADP News ) - Dec 11 , 2008 - Finnish constru...</td>\n",
       "      <td>2</td>\n",
       "    </tr>\n",
       "    <tr>\n",
       "      <th>3013</th>\n",
       "      <td>( ADP News ) - Dec 11 , 2008 - Finnish power-s...</td>\n",
       "      <td>1</td>\n",
       "    </tr>\n",
       "    <tr>\n",
       "      <th>227</th>\n",
       "      <td>( ADP News ) - Feb 11 , 2009 - Finnish managem...</td>\n",
       "      <td>2</td>\n",
       "    </tr>\n",
       "    <tr>\n",
       "      <th>...</th>\n",
       "      <td>...</td>\n",
       "      <td>...</td>\n",
       "    </tr>\n",
       "    <tr>\n",
       "      <th>1487</th>\n",
       "      <td>3G data subscribers are also helping to mainta...</td>\n",
       "      <td>1</td>\n",
       "    </tr>\n",
       "    <tr>\n",
       "      <th>413</th>\n",
       "      <td>4 ) Complete name of the shareholder : Otto He...</td>\n",
       "      <td>1</td>\n",
       "    </tr>\n",
       "    <tr>\n",
       "      <th>2268</th>\n",
       "      <td>4 February 2011 - Finnish broadband data commu...</td>\n",
       "      <td>2</td>\n",
       "    </tr>\n",
       "    <tr>\n",
       "      <th>92</th>\n",
       "      <td>4 February 2011 - Finnish broadband data commu...</td>\n",
       "      <td>2</td>\n",
       "    </tr>\n",
       "    <tr>\n",
       "      <th>4578</th>\n",
       "      <td>4 February 2011 - Finnish privacy and security...</td>\n",
       "      <td>1</td>\n",
       "    </tr>\n",
       "  </tbody>\n",
       "</table>\n",
       "<p>100 rows × 2 columns</p>\n",
       "</div>"
      ],
      "text/plain": [
       "                                               sentence  label\n",
       "3741  's Outokumpu Technology business will begin tr...      1\n",
       "3012  ( A spokesperson told WWD to expect a 50-50 mi...      1\n",
       "591   ( ADP News ) - Dec 11 , 2008 - Finnish constru...      2\n",
       "3013  ( ADP News ) - Dec 11 , 2008 - Finnish power-s...      1\n",
       "227   ( ADP News ) - Feb 11 , 2009 - Finnish managem...      2\n",
       "...                                                 ...    ...\n",
       "1487  3G data subscribers are also helping to mainta...      1\n",
       "413   4 ) Complete name of the shareholder : Otto He...      1\n",
       "2268  4 February 2011 - Finnish broadband data commu...      2\n",
       "92    4 February 2011 - Finnish broadband data commu...      2\n",
       "4578  4 February 2011 - Finnish privacy and security...      1\n",
       "\n",
       "[100 rows x 2 columns]"
      ]
     },
     "execution_count": 12,
     "metadata": {},
     "output_type": "execute_result"
    }
   ],
   "source": [
    "sorted_df = df_50agree.sort_values(by='sentence', ascending=True)\n",
    "sorted_df.head(100)"
   ]
  }
 ],
 "metadata": {
  "kernelspec": {
   "display_name": "textmining",
   "language": "python",
   "name": "python3"
  },
  "language_info": {
   "codemirror_mode": {
    "name": "ipython",
    "version": 3
   },
   "file_extension": ".py",
   "mimetype": "text/x-python",
   "name": "python",
   "nbconvert_exporter": "python",
   "pygments_lexer": "ipython3",
   "version": "3.12.3"
  }
 },
 "nbformat": 4,
 "nbformat_minor": 5
}
