{
 "cells": [
  {
   "cell_type": "markdown",
   "id": "5d9ae930",
   "metadata": {},
   "source": [
    "# Market Reaction to Financial News: Train a model on financial news datasets to predict market movements based on news sentiment."
   ]
  },
  {
   "cell_type": "code",
   "execution_count": 10,
   "id": "b59798c7",
   "metadata": {},
   "outputs": [],
   "source": [
    "from datasets import load_dataset\n",
    "\n",
    "dataset_50agree = load_dataset(\"takala/financial_phrasebank\", 'sentences_50agree', trust_remote_code=True)"
   ]
  },
  {
   "cell_type": "code",
   "execution_count": 11,
   "id": "e39c54b0",
   "metadata": {},
   "outputs": [],
   "source": [
    "import pandas as pd\n",
    "import numpy as np\n",
    "import matplotlib.pyplot as plt\n",
    "import seaborn as sns\n",
    "import nltk\n",
    "from nltk import word_tokenize\n",
    "from nltk.corpus import stopwords\n",
    "from nltk.stem import WordNetLemmatizer\n",
    "from nltk.util import ngrams\n",
    "from sklearn.feature_extraction.text import CountVectorizer\n",
    "from sklearn.model_selection import train_test_split\n",
    "from sklearn.metrics import classification_report, confusion_matrix\n",
    "from sklearn.naive_bayes import MultinomialNB\n",
    "from sklearn.pipeline import make_pipeline\n",
    "from sklearn.preprocessing import FunctionTransformer\n",
    "from sklearn.compose import ColumnTransformer\n",
    "from sklearn.impute import SimpleImputer\n",
    "from sklearn.feature_extraction.text import TfidfVectorizer\n",
    "from sklearn.linear_model import LogisticRegression\n",
    "from sklearn.ensemble import RandomForestClassifier\n",
    "from sklearn.svm import SVC\n",
    "from sklearn.tree import DecisionTreeClassifier\n",
    "from sklearn.neighbors import KNeighborsClassifier"
   ]
  },
  {
   "cell_type": "code",
   "execution_count": 33,
   "id": "313e714b",
   "metadata": {},
   "outputs": [],
   "source": [
    "dict = {'Item_1': 1, 'Item_2': 2, 'Item_3': 3, 'Item_4': 4, 'Item_5': 5, 'Item_6': 6, 'Item_7': 7, 'Item_8': 8, 'Item_9': 9, 'Item_10': 10}"
   ]
  },
  {
   "cell_type": "code",
   "execution_count": 36,
   "id": "390d7dc7",
   "metadata": {},
   "outputs": [
    {
     "data": {
      "text/plain": [
       "dict_values([1, 2, 3, 4, 5, 6, 7, 8, 9, 10])"
      ]
     },
     "execution_count": 36,
     "metadata": {},
     "output_type": "execute_result"
    }
   ],
   "source": [
    "dict.values()"
   ]
  },
  {
   "cell_type": "code",
   "execution_count": 32,
   "id": "276d5c71",
   "metadata": {},
   "outputs": [
    {
     "data": {
      "text/plain": [
       "DatasetDict({\n",
       "    train: Dataset({\n",
       "        features: ['sentence', 'label'],\n",
       "        num_rows: 4846\n",
       "    })\n",
       "})"
      ]
     },
     "execution_count": 32,
     "metadata": {},
     "output_type": "execute_result"
    }
   ],
   "source": [
    "dataset_50agree"
   ]
  },
  {
   "cell_type": "code",
   "execution_count": 14,
   "id": "fa49ecf8",
   "metadata": {},
   "outputs": [],
   "source": [
    "df_50agree = pd.DataFrame(dataset_50agree['train'])"
   ]
  },
  {
   "cell_type": "code",
   "execution_count": 15,
   "id": "e621487c",
   "metadata": {},
   "outputs": [
    {
     "data": {
      "application/vnd.microsoft.datawrangler.viewer.v0+json": {
       "columns": [
        {
         "name": "index",
         "rawType": "int64",
         "type": "integer"
        },
        {
         "name": "sentence",
         "rawType": "object",
         "type": "string"
        },
        {
         "name": "label",
         "rawType": "int64",
         "type": "integer"
        }
       ],
       "ref": "6dff48e6-69f9-48a0-9548-45c3b9c8e110",
       "rows": [
        [
         "0",
         "According to Gran , the company has no plans to move all production to Russia , although that is where the company is growing .",
         "1"
        ],
        [
         "1",
         "Technopolis plans to develop in stages an area of no less than 100,000 square meters in order to host companies working in computer technologies and telecommunications , the statement said .",
         "1"
        ],
        [
         "2",
         "The international electronic industry company Elcoteq has laid off tens of employees from its Tallinn facility ; contrary to earlier layoffs the company contracted the ranks of its office workers , the daily Postimees reported .",
         "0"
        ],
        [
         "3",
         "With the new production plant the company would increase its capacity to meet the expected increase in demand and would improve the use of raw materials and therefore increase the production profitability .",
         "2"
        ],
        [
         "4",
         "According to the company 's updated strategy for the years 2009-2012 , Basware targets a long-term net sales growth in the range of 20 % -40 % with an operating profit margin of 10 % -20 % of net sales .",
         "2"
        ]
       ],
       "shape": {
        "columns": 2,
        "rows": 5
       }
      },
      "text/html": [
       "<div>\n",
       "<style scoped>\n",
       "    .dataframe tbody tr th:only-of-type {\n",
       "        vertical-align: middle;\n",
       "    }\n",
       "\n",
       "    .dataframe tbody tr th {\n",
       "        vertical-align: top;\n",
       "    }\n",
       "\n",
       "    .dataframe thead th {\n",
       "        text-align: right;\n",
       "    }\n",
       "</style>\n",
       "<table border=\"1\" class=\"dataframe\">\n",
       "  <thead>\n",
       "    <tr style=\"text-align: right;\">\n",
       "      <th></th>\n",
       "      <th>sentence</th>\n",
       "      <th>label</th>\n",
       "    </tr>\n",
       "  </thead>\n",
       "  <tbody>\n",
       "    <tr>\n",
       "      <th>0</th>\n",
       "      <td>According to Gran , the company has no plans t...</td>\n",
       "      <td>1</td>\n",
       "    </tr>\n",
       "    <tr>\n",
       "      <th>1</th>\n",
       "      <td>Technopolis plans to develop in stages an area...</td>\n",
       "      <td>1</td>\n",
       "    </tr>\n",
       "    <tr>\n",
       "      <th>2</th>\n",
       "      <td>The international electronic industry company ...</td>\n",
       "      <td>0</td>\n",
       "    </tr>\n",
       "    <tr>\n",
       "      <th>3</th>\n",
       "      <td>With the new production plant the company woul...</td>\n",
       "      <td>2</td>\n",
       "    </tr>\n",
       "    <tr>\n",
       "      <th>4</th>\n",
       "      <td>According to the company 's updated strategy f...</td>\n",
       "      <td>2</td>\n",
       "    </tr>\n",
       "  </tbody>\n",
       "</table>\n",
       "</div>"
      ],
      "text/plain": [
       "                                            sentence  label\n",
       "0  According to Gran , the company has no plans t...      1\n",
       "1  Technopolis plans to develop in stages an area...      1\n",
       "2  The international electronic industry company ...      0\n",
       "3  With the new production plant the company woul...      2\n",
       "4  According to the company 's updated strategy f...      2"
      ]
     },
     "execution_count": 15,
     "metadata": {},
     "output_type": "execute_result"
    }
   ],
   "source": [
    "df_50agree.head()"
   ]
  },
  {
   "cell_type": "code",
   "execution_count": 21,
   "id": "dd1f9e15",
   "metadata": {},
   "outputs": [],
   "source": [
    "filtered_df_label_1 = df_50agree[df_50agree['label'] == 1]"
   ]
  },
  {
   "cell_type": "code",
   "execution_count": 27,
   "id": "3e379f7d",
   "metadata": {},
   "outputs": [],
   "source": [
    "grouped_df = df_50agree.groupby('label').size().reset_index(name='count')"
   ]
  },
  {
   "cell_type": "code",
   "execution_count": 28,
   "id": "e62d20b6",
   "metadata": {},
   "outputs": [
    {
     "data": {
      "application/vnd.microsoft.datawrangler.viewer.v0+json": {
       "columns": [
        {
         "name": "index",
         "rawType": "int64",
         "type": "integer"
        },
        {
         "name": "label",
         "rawType": "int64",
         "type": "integer"
        },
        {
         "name": "count",
         "rawType": "int64",
         "type": "integer"
        }
       ],
       "ref": "532dcc5d-0e3d-44f4-8659-741c2058478d",
       "rows": [
        [
         "0",
         "0",
         "604"
        ],
        [
         "1",
         "1",
         "2879"
        ],
        [
         "2",
         "2",
         "1363"
        ]
       ],
       "shape": {
        "columns": 2,
        "rows": 3
       }
      },
      "text/html": [
       "<div>\n",
       "<style scoped>\n",
       "    .dataframe tbody tr th:only-of-type {\n",
       "        vertical-align: middle;\n",
       "    }\n",
       "\n",
       "    .dataframe tbody tr th {\n",
       "        vertical-align: top;\n",
       "    }\n",
       "\n",
       "    .dataframe thead th {\n",
       "        text-align: right;\n",
       "    }\n",
       "</style>\n",
       "<table border=\"1\" class=\"dataframe\">\n",
       "  <thead>\n",
       "    <tr style=\"text-align: right;\">\n",
       "      <th></th>\n",
       "      <th>label</th>\n",
       "      <th>count</th>\n",
       "    </tr>\n",
       "  </thead>\n",
       "  <tbody>\n",
       "    <tr>\n",
       "      <th>0</th>\n",
       "      <td>0</td>\n",
       "      <td>604</td>\n",
       "    </tr>\n",
       "    <tr>\n",
       "      <th>1</th>\n",
       "      <td>1</td>\n",
       "      <td>2879</td>\n",
       "    </tr>\n",
       "    <tr>\n",
       "      <th>2</th>\n",
       "      <td>2</td>\n",
       "      <td>1363</td>\n",
       "    </tr>\n",
       "  </tbody>\n",
       "</table>\n",
       "</div>"
      ],
      "text/plain": [
       "   label  count\n",
       "0      0    604\n",
       "1      1   2879\n",
       "2      2   1363"
      ]
     },
     "execution_count": 28,
     "metadata": {},
     "output_type": "execute_result"
    }
   ],
   "source": [
    "grouped_df"
   ]
  },
  {
   "cell_type": "code",
   "execution_count": 30,
   "id": "67ffcff1",
   "metadata": {},
   "outputs": [
    {
     "data": {
      "application/vnd.microsoft.datawrangler.viewer.v0+json": {
       "columns": [
        {
         "name": "index",
         "rawType": "int64",
         "type": "integer"
        },
        {
         "name": "sentence",
         "rawType": "object",
         "type": "string"
        },
        {
         "name": "label",
         "rawType": "int64",
         "type": "integer"
        }
       ],
       "ref": "83583479-0c11-4fad-af2b-3f4eafe418b1",
       "rows": [
        [
         "3741",
         "'s Outokumpu Technology business will begin trading on the Nordic Exchange in Helsinki starting Oct. 10 , becoming the sixth company to list on that exchange this year , the company said Friday .",
         "1"
        ],
        [
         "3012",
         "( A spokesperson told WWD to expect a 50-50 mix of clothing and home decor . )",
         "1"
        ],
        [
         "591",
         "( ADP News ) - Dec 11 , 2008 - Finnish construction and engineering company Outotec Oyj ( OMX : OTE1V ) said today it won a EUR 28 million ( USD 36.8 m ) order to expand the phosphate concentrator in Siilinjarvi of Norwegian minera",
         "2"
        ],
        [
         "3013",
         "( ADP News ) - Dec 11 , 2008 - Finnish power-supply solutions provider Efore Oyj ( OMX : EFO1V ) said yesterday it opened a technology research and development ( R&D ) laboratory at Helsinki University of Technology .",
         "1"
        ],
        [
         "227",
         "( ADP News ) - Feb 11 , 2009 - Finnish management software solutions provider Ixonos Oyj ( HEL : XNS1V ) said today its net profit rose to EUR 3.5 million ( USD 4.5 m ) for 2008 from EUR 3.1 million for 2007 .",
         "2"
        ],
        [
         "4684",
         "( ADP News ) - Feb 11 , 2009 - Finnish wood products technology supplier Raute Oyj ( HEL : RUTAV ) said today its net profit decreased to EUR 4.7 million ( USD 6.1 m ) for 2008 from EUR 6.6 million for 2007 .",
         "0"
        ],
        [
         "228",
         "( ADP News ) - Feb 12 , 2009 - Finnish IT solutions provider Affecto Oyj ( HEL : AFE1V ) said today its net profit rose to EUR 8.5 million ( USD 11m ) in 2008 from EUR 7 million in 2007 .",
         "2"
        ],
        [
         "4685",
         "( ADP News ) - Feb 12 , 2009 - Finnish construction company Lemminkainen Oyj ( HEL : LEM1S ) said today its net profit decreased to EUR 63.5 million ( USD 81.1 m ) for 2008 from EUR 80.6 million for 2007 .",
         "0"
        ],
        [
         "4686",
         "( ADP News ) - Feb 4 , 2009 - Finnish broadband data communication systems and solutions company Teleste Oyj ( HEL : TLT1V ) said today its net profit decreased to EUR 5.5 million ( USD 7.2 m ) for 2008 from EUR 9.4 million for 200",
         "0"
        ],
        [
         "229",
         "( ADP News ) - Feb 6 , 2009 - Finnish fishing tackle company Rapala VMC Corp ( HEL : RAP1V ) said today its net profit rose to EUR 19.2 million ( USD 24.6 m ) for 2008 from EUR 17.5 million for 2007 .",
         "2"
        ],
        [
         "650",
         "( ADP News ) - Feb 9 , 2009 - Finnish computer services company Proha Oyj ( HEL : ART1V ) said today its net loss narrowed to EUR 113,000 ( USD 146,000 ) for 2008 from EUR 1.2 million for 2007 .",
         "2"
        ],
        [
         "1752",
         "( ADP News ) - Finnish handling systems provider Cargotec Oyj ( HEL : CGCBV ) announced on Friday it won orders worth EUR 10 million ( USD 13.2 m ) to deliver linkspans to Jordan , Morocco and Ireland .",
         "2"
        ],
        [
         "4687",
         "( ADP News ) - Jan 22 , 2009 - Finnish mobile phones maker Nokia Oyj ( OMX : NOK1V ) said today its operating profit decreased to EUR 5 billion ( USD 6.5 bn ) for 2008 from EUR 8 billion for 2007 .",
         "0"
        ],
        [
         "4215",
         "( ADP News ) - Jan 27 , 2009 - Finnish industrial machinery company Vaahto Group Ltd Oyj ( HEL : WAT1S ) said today that its subsidiary Vaahto Ltd would cut 15 jobs in Finland .",
         "0"
        ],
        [
         "3014",
         "( ADP News ) - Nov 28 , 2008 - Finnish power-supply solutions provider Efore Oyj ( OMX : EFO1V ) announced today the launch of OPUS DC , the latest power system in its OPUS product line .",
         "2"
        ],
        [
         "3015",
         "( ADP News ) - Nov 3 , 2008 - Finnish cargo handling systems and services company Cargotec Oyj ( OMX : CGCBV ) said today that it acquired 80 % stakes in Italian service companies CVS Technoports Srl and CVS Service Srl from Italian handli",
         "2"
        ],
        [
         "3016",
         "( ADP News ) - Nov 3 , 2008 - Finnish paper , packaging and forest products company Stora Enso Oyj ( OMX : STERV ) said today that it would invest EUR 137 million ( USD 176.6 m ) in the building of a power plant at its Ostroleka Mi",
         "1"
        ],
        [
         "230",
         "( ADP News ) - Nov 5 , 2008 - Finnish electronic measurement products and solutions maker Vaisala Oyj ( OMX : VAIAS ) said today that its net profit rose to EUR 18 million ( USD 23.1 m ) for the first nine months of 2008 from EUR 1",
         "2"
        ],
        [
         "860",
         "( ADP News ) - Oct 1 , 2008 - Finnish consulting and engineering company Poyry Oyj ( OMX : POY1V ) said today it was awarded a EUR 5.2 million ( USD 7.4 m ) extension to their existing consultancy engineering contract with Venezuel",
         "2"
        ],
        [
         "231",
         "( ADP News ) - Oct 29 , 2008 - Finnish lifting equipment maker Konecranes Oyj ( OMX : KCR1V ) said today that its net profit rose to EUR 116.6 million ( USD 149.1 m ) in the first nine months of 2008 from EUR 73.6 million for the s",
         "2"
        ],
        [
         "861",
         "( ADP News ) - Oct 31 , 2008 - Finnish food company Raisio Oyj ( OMX : RAIVV ) said today that its net profit jumped to EUR 16.4 million ( USD 20.9 m ) for the first nine months of 2008 from EUR 1.1 million for the same period of 2",
         "2"
        ],
        [
         "862",
         "( ADP News ) - Sep 30 , 2008 - Finnish security and privacy software solutions developer Stonesoft Oyj said today that it won a USD 1.9 million ( EUR 1.3 m ) order to deliver its StoneGate network security products to an unnamed Russian te",
         "2"
        ],
        [
         "4216",
         "( ADPnews ) - Dec 1 , 2009 - Finnish cutlery and hand tools maker Fiskars Oyj Abp ( HEL : FISAS ) said today that it will make redundant a total of 18 office and management staff members of its subsidiary Iittala Group Ltd. .",
         "0"
        ],
        [
         "4217",
         "( ADPnews ) - Dec 30 , 2009 - Finnish investment group Neomarkka Oyj ( HEL : NEMBV ) said today that it will furlough employee in its unit Reka Cables Ltd for less than 90 days , starting in January 2010 .",
         "1"
        ],
        [
         "670",
         "( ADPnews ) - Feb 3 , 2010 - Finland-based steel maker Rautaruukki Oyj ( HEL : RTRKS ) , or Ruukki , said today it slipped to a larger-than-expected pretax loss of EUR 46 million ( USD 64.5 m ) in the fourth quarter of 2009 from a",
         "0"
        ],
        [
         "4688",
         "( ADPnews ) - May 4 , 2010 - Finnish cutlery and hand tools maker Fiskars Oyj Abp ( HEL : FISAS ) said today its net profit declined to EUR 12.9 million ( USD 17m ) in the first quarter of 2010 from EUR 17 million in the correspond",
         "0"
        ],
        [
         "3017",
         "( ADPnews ) - Nov 9 , 2009 - Four companies have agreed to buy for a combined SEK 5.9 billion ( USD 854m-EUR 571.8 m ) all drug stores offered for sale as part of the restructuring of Swedish stated-owned pharmacy monopoly Apoteket AB , t",
         "2"
        ],
        [
         "4689",
         "( ADPnews ) - Oct 21 , 2009 - Finland-based IT consultancy Tieto Oyj ( HEL : TIE1V ) said today its net profit plunged to EUR 29.4 million ( USD 43.9 m ) for the first nine months of 2009 from EUR 58.7 million for the same period o",
         "0"
        ],
        [
         "21",
         "( Filippova ) A trilateral agreement on investment in the construction of a technology park in St Petersburg was to have been signed in the course of the forum , Days of the Russian Economy , that opened in Helsinki today .",
         "2"
        ],
        [
         "1282",
         "( I&H ) in a move to enhance growth .",
         "2"
        ],
        [
         "3018",
         "( The acquisition sum has not been disclosed . )",
         "1"
        ],
        [
         "2725",
         "+£lemiste City is the environment for a knowledge-based economy providing work for 3,300 people with the total turnover of its companies amounting to EEK 5.4 bn , '' said +£lo P+ñrnits , chairman of the supervisory board of +£lemiste City and Mainor .",
         "1"
        ],
        [
         "4620",
         "- Among other Finnish shares traded in the US , Stora Enso closed 0.33 pct lower at 12.11 eur , UPM-Kymmene was up 0.28 pct at 18.10 eur , and Metso was down 0.13 pct at 31.06 eur .",
         "1"
        ],
        [
         "463",
         "- BEIJING XFN-ASIA - Hong Kong-listed Standard Chartered Bank said it has signed a China mobile phone dealer financing agreement with Nokia , making it the first foreign bank to offer financing to the country 's small and medium enterprise -LR",
         "2"
        ],
        [
         "3466",
         "- Cash flow from operating activities before investments was EUR 0.8 -1.2 million .",
         "1"
        ],
        [
         "3467",
         "- Cash flow from operating activities before investments was EUR 7.6 million EUR 2.5 million .",
         "1"
        ],
        [
         "1973",
         "- Counter your competitor 's strengths and target their weaknesses .",
         "1"
        ],
        [
         "4782",
         "- Demand for fireplace products was lower than expected , especially in Germany .",
         "0"
        ],
        [
         "1823",
         "- I am pleased that Bjorn Wahlroos has accepted the nomination .",
         "2"
        ],
        [
         "2322",
         "- Inge Larsen (CFO), 29,045 shares , representing 0.50 % of the share capital .",
         "1"
        ],
        [
         "2259",
         "- Moody 's said it gave P A1 long-term senior unsecured and P P-1 short-term debt ratings to Finnish lender Aktia Bank 's EUR1bn USD1 .4 bn euro medium-term note EMTN program of 25 March 2011 .",
         "1"
        ],
        [
         "4634",
         "- Net sales for the period are expected to fall well below that of last year and the result after non-recurring items is expected to be in the red .",
         "0"
        ],
        [
         "134",
         "- Operating profit rose by 26.9 % to EUR 105.8 ( 83.4 ) million .",
         "2"
        ],
        [
         "3469",
         "- Profit before taxes was EUR 105.9 82.7 million .",
         "1"
        ],
        [
         "464",
         "- Provides summary of the medical equipment pipeline products that the company is developing .",
         "1"
        ],
        [
         "71",
         "- So , the sales growth of cars considerably influence on the tires market '' .",
         "1"
        ],
        [
         "4000",
         "- The Group 's sales during the period were EUR 37.5 million ( EUR 48.2 million , 1-9/2008 ) and result before taxes was a loss of EUR -3.5 ( +1.2 ) million .",
         "0"
        ],
        [
         "3470",
         "- The Group -¦ s cumulative sales during the review period were EUR 48.2 million EUR 53.1 million , 1-9/2007 and profit before taxes was EUR 1.2 1.4 million .",
         "1"
        ],
        [
         "3471",
         "- The Group -¦ s profit before taxes was EUR 0,2 7,8 million .",
         "1"
        ],
        [
         "3999",
         "- The Group -¦ s result before taxes was EUR -1.9 ( -3.0 ) million .",
         "0"
        ]
       ],
       "shape": {
        "columns": 2,
        "rows": 100
       }
      },
      "text/html": [
       "<div>\n",
       "<style scoped>\n",
       "    .dataframe tbody tr th:only-of-type {\n",
       "        vertical-align: middle;\n",
       "    }\n",
       "\n",
       "    .dataframe tbody tr th {\n",
       "        vertical-align: top;\n",
       "    }\n",
       "\n",
       "    .dataframe thead th {\n",
       "        text-align: right;\n",
       "    }\n",
       "</style>\n",
       "<table border=\"1\" class=\"dataframe\">\n",
       "  <thead>\n",
       "    <tr style=\"text-align: right;\">\n",
       "      <th></th>\n",
       "      <th>sentence</th>\n",
       "      <th>label</th>\n",
       "    </tr>\n",
       "  </thead>\n",
       "  <tbody>\n",
       "    <tr>\n",
       "      <th>3741</th>\n",
       "      <td>'s Outokumpu Technology business will begin tr...</td>\n",
       "      <td>1</td>\n",
       "    </tr>\n",
       "    <tr>\n",
       "      <th>3012</th>\n",
       "      <td>( A spokesperson told WWD to expect a 50-50 mi...</td>\n",
       "      <td>1</td>\n",
       "    </tr>\n",
       "    <tr>\n",
       "      <th>591</th>\n",
       "      <td>( ADP News ) - Dec 11 , 2008 - Finnish constru...</td>\n",
       "      <td>2</td>\n",
       "    </tr>\n",
       "    <tr>\n",
       "      <th>3013</th>\n",
       "      <td>( ADP News ) - Dec 11 , 2008 - Finnish power-s...</td>\n",
       "      <td>1</td>\n",
       "    </tr>\n",
       "    <tr>\n",
       "      <th>227</th>\n",
       "      <td>( ADP News ) - Feb 11 , 2009 - Finnish managem...</td>\n",
       "      <td>2</td>\n",
       "    </tr>\n",
       "    <tr>\n",
       "      <th>...</th>\n",
       "      <td>...</td>\n",
       "      <td>...</td>\n",
       "    </tr>\n",
       "    <tr>\n",
       "      <th>1487</th>\n",
       "      <td>3G data subscribers are also helping to mainta...</td>\n",
       "      <td>1</td>\n",
       "    </tr>\n",
       "    <tr>\n",
       "      <th>413</th>\n",
       "      <td>4 ) Complete name of the shareholder : Otto He...</td>\n",
       "      <td>1</td>\n",
       "    </tr>\n",
       "    <tr>\n",
       "      <th>2268</th>\n",
       "      <td>4 February 2011 - Finnish broadband data commu...</td>\n",
       "      <td>2</td>\n",
       "    </tr>\n",
       "    <tr>\n",
       "      <th>92</th>\n",
       "      <td>4 February 2011 - Finnish broadband data commu...</td>\n",
       "      <td>2</td>\n",
       "    </tr>\n",
       "    <tr>\n",
       "      <th>4578</th>\n",
       "      <td>4 February 2011 - Finnish privacy and security...</td>\n",
       "      <td>1</td>\n",
       "    </tr>\n",
       "  </tbody>\n",
       "</table>\n",
       "<p>100 rows × 2 columns</p>\n",
       "</div>"
      ],
      "text/plain": [
       "                                               sentence  label\n",
       "3741  's Outokumpu Technology business will begin tr...      1\n",
       "3012  ( A spokesperson told WWD to expect a 50-50 mi...      1\n",
       "591   ( ADP News ) - Dec 11 , 2008 - Finnish constru...      2\n",
       "3013  ( ADP News ) - Dec 11 , 2008 - Finnish power-s...      1\n",
       "227   ( ADP News ) - Feb 11 , 2009 - Finnish managem...      2\n",
       "...                                                 ...    ...\n",
       "1487  3G data subscribers are also helping to mainta...      1\n",
       "413   4 ) Complete name of the shareholder : Otto He...      1\n",
       "2268  4 February 2011 - Finnish broadband data commu...      2\n",
       "92    4 February 2011 - Finnish broadband data commu...      2\n",
       "4578  4 February 2011 - Finnish privacy and security...      1\n",
       "\n",
       "[100 rows x 2 columns]"
      ]
     },
     "execution_count": 30,
     "metadata": {},
     "output_type": "execute_result"
    }
   ],
   "source": [
    "sorted_df = df_50agree.sort_values(by='sentence', ascending=True)\n",
    "sorted_df.head(100)"
   ]
  },
  {
   "cell_type": "code",
   "execution_count": null,
   "id": "577507b4",
   "metadata": {},
   "outputs": [],
   "source": [
    "# Function to compute z-score for a list\n",
    "def z_score(x):\n",
    "    mean = np.mean(x)\n",
    "    std = np.std(x)\n",
    "    return [(i - mean) / std for i in x]\n",
    "\n",
    "#or scipy.stats.zscore\n",
    "# Function to compute z-score for a list\n",
    "from scipy.stats import zscore\n",
    "df['z_sales'] = zscore(df['sales'])\n",
    "\n"
   ]
  },
  {
   "cell_type": "code",
   "execution_count": null,
   "id": "fbe6dca1",
   "metadata": {},
   "outputs": [],
   "source": [
    "# Drop rows with null values\n",
    "df.dropna()\n",
    "\n",
    "# Fill missing values\n",
    "df['column'] = df['column'].fillna(0)\n",
    "# Fill missing values with mean\n",
    "df['column'] = df['column'].fillna(df['column'].mean())\n",
    "# Fill missing values with median\n",
    "df['column'] = df['column'].fillna(df['column'].median())\n",
    "# Fill missing values with mode\n",
    "df['column'] = df['column'].fillna(df['column'].mode()[0])\n",
    "# Fill missing values with forward fill\n",
    "df['column'] = df['column'].fillna(method='ffill')\n",
    "# Fill missing values with backward fill\n",
    "df['column'] = df['column'].fillna(method='bfill')\n",
    "# Fill missing values with interpolation\n",
    "df['column'] = df['column'].interpolate()\n",
    "# Fill missing values with a constant\n",
    "df['column'] = df['column'].fillna(0)"
   ]
  },
  {
   "cell_type": "code",
   "execution_count": null,
   "id": "a77b1041",
   "metadata": {},
   "outputs": [],
   "source": [
    "# Profit Margin as a new column\n",
    "df['profit_margin'] = df['profit'] / df['revenue']\n"
   ]
  },
  {
   "cell_type": "code",
   "execution_count": null,
   "id": "de274de7",
   "metadata": {},
   "outputs": [],
   "source": [
    "# Sales > 1000 and region == 'North'\n",
    "df_filtered = df[(df['sales'] > 1000) & (df['region'] == 'North')]\n"
   ]
  },
  {
   "cell_type": "code",
   "execution_count": null,
   "id": "9df69496",
   "metadata": {},
   "outputs": [],
   "source": [
    "df = pd.read_csv('data.csv')\n",
    "df.to_csv('output.csv', index=False)\n"
   ]
  },
  {
   "cell_type": "code",
   "execution_count": 38,
   "id": "1304b5ca",
   "metadata": {},
   "outputs": [
    {
     "name": "stdout",
     "output_type": "stream",
     "text": [
      "   Avg_price  quantity category  total_revenue\n",
      "0      10.99         3        A          32.97\n",
      "1      24.50         1        B          24.50\n",
      "2       5.99         7        C          41.93\n"
     ]
    }
   ],
   "source": [
    "# Sample DataFrame\n",
    "data = {\n",
    "    'Avg_price': [10.99, 24.50, 5.99],\n",
    "    'quantity': [3, 1, 7],\n",
    "    'category': ['A', 'B', 'C']\n",
    "}\n",
    "df = pd.DataFrame(data)\n",
    "\n",
    "\n",
    "def get_revenue(df):\n",
    "    \n",
    "    result_df = df.copy()\n",
    "    result_df['total_revenue'] = result_df['Avg_price'] * result_df['quantity']\n",
    "    return result_df\n",
    "\n",
    "# Apply the function\n",
    "result_df = get_revenue(df)\n",
    "print(result_df)"
   ]
  },
  {
   "cell_type": "code",
   "execution_count": null,
   "id": "06803d11",
   "metadata": {},
   "outputs": [
    {
     "data": {
      "text/plain": [
       "np.float64(10.99)"
      ]
     },
     "execution_count": 43,
     "metadata": {},
     "output_type": "execute_result"
    }
   ],
   "source": [
    "avg_price = [df['Avg_price']]\n"
   ]
  },
  {
   "cell_type": "code",
   "execution_count": 47,
   "id": "0b2614dd",
   "metadata": {},
   "outputs": [
    {
     "data": {
      "application/vnd.microsoft.datawrangler.viewer.v0+json": {
       "columns": [
        {
         "name": "index",
         "rawType": "int64",
         "type": "integer"
        },
        {
         "name": "0",
         "rawType": "int64",
         "type": "integer"
        }
       ],
       "ref": "f6c2197e-e00d-4acc-86c7-c82ca0b2b0c2",
       "rows": [
        [
         "0",
         "1"
        ],
        [
         "1",
         "2"
        ],
        [
         "2",
         "3"
        ],
        [
         "3",
         "4"
        ],
        [
         "4",
         "5"
        ]
       ],
       "shape": {
        "columns": 1,
        "rows": 5
       }
      },
      "text/html": [
       "<div>\n",
       "<style scoped>\n",
       "    .dataframe tbody tr th:only-of-type {\n",
       "        vertical-align: middle;\n",
       "    }\n",
       "\n",
       "    .dataframe tbody tr th {\n",
       "        vertical-align: top;\n",
       "    }\n",
       "\n",
       "    .dataframe thead th {\n",
       "        text-align: right;\n",
       "    }\n",
       "</style>\n",
       "<table border=\"1\" class=\"dataframe\">\n",
       "  <thead>\n",
       "    <tr style=\"text-align: right;\">\n",
       "      <th></th>\n",
       "      <th>0</th>\n",
       "    </tr>\n",
       "  </thead>\n",
       "  <tbody>\n",
       "    <tr>\n",
       "      <th>0</th>\n",
       "      <td>1</td>\n",
       "    </tr>\n",
       "    <tr>\n",
       "      <th>1</th>\n",
       "      <td>2</td>\n",
       "    </tr>\n",
       "    <tr>\n",
       "      <th>2</th>\n",
       "      <td>3</td>\n",
       "    </tr>\n",
       "    <tr>\n",
       "      <th>3</th>\n",
       "      <td>4</td>\n",
       "    </tr>\n",
       "    <tr>\n",
       "      <th>4</th>\n",
       "      <td>5</td>\n",
       "    </tr>\n",
       "  </tbody>\n",
       "</table>\n",
       "</div>"
      ],
      "text/plain": [
       "   0\n",
       "0  1\n",
       "1  2\n",
       "2  3\n",
       "3  4\n",
       "4  5"
      ]
     },
     "execution_count": 47,
     "metadata": {},
     "output_type": "execute_result"
    }
   ],
   "source": [
    "a = [1, 2, 3, 4, 5]\n",
    "df = pd.DataFrame(a)\n",
    "df"
   ]
  }
 ],
 "metadata": {
  "kernelspec": {
   "display_name": "textmining",
   "language": "python",
   "name": "python3"
  },
  "language_info": {
   "codemirror_mode": {
    "name": "ipython",
    "version": 3
   },
   "file_extension": ".py",
   "mimetype": "text/x-python",
   "name": "python",
   "nbconvert_exporter": "python",
   "pygments_lexer": "ipython3",
   "version": "3.12.3"
  }
 },
 "nbformat": 4,
 "nbformat_minor": 5
}
