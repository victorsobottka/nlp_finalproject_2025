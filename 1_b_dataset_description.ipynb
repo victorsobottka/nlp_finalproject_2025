{
 "cells": [
  {
   "cell_type": "markdown",
   "id": "89e6293b",
   "metadata": {},
   "source": [
    "## **🔬 Dataset Description**"
   ]
  },
  {
   "cell_type": "markdown",
   "id": "5968db15",
   "metadata": {},
   "source": [
    "### **🤗 Description from Hugging Face**\n",
    "\n",
    "Polar sentiment dataset of sentences from financial news. The dataset consists of 4840 sentences from English language financial news categorised by sentiment. The dataset is divided by agreement rate of 5-8 annotators.\n",
    "\n",
    "- 0 Negative\n",
    "- 1 Neutral\n",
    "- 2 Positive\n",
    "\n",
    "### **✂️ Data Splits**\n",
    "\n",
    "There's no train/validation/test split.\n",
    "\n",
    "However the dataset is available in four possible configurations depending on the percentage of agreement of annotators:\n",
    "\n",
    "- `sentences_50agree` Number of instances with >=50% annotator agreement: 4846 \n",
    "- `sentences_66agree` Number of instances with >=66% annotator agreement: 4217 \n",
    "- `sentences_75agree` Number of instances with >=75% annotator agreement: 3453 \n",
    "- `sentences_allagree` Number of instances with 100% annotator agreement: 2264\n",
    "\n",
    "The code below export all splits into csv files:\n"
   ]
  },
  {
   "cell_type": "code",
   "execution_count": 4,
   "id": "dce48fd6",
   "metadata": {},
   "outputs": [
    {
     "data": {
      "application/vnd.jupyter.widget-view+json": {
       "model_id": "b744e505160f4910ab7ca7c507b500b4",
       "version_major": 2,
       "version_minor": 0
      },
      "text/plain": [
       "Creating CSV from Arrow format:   0%|          | 0/5 [00:00<?, ?ba/s]"
      ]
     },
     "metadata": {},
     "output_type": "display_data"
    },
    {
     "data": {
      "application/vnd.jupyter.widget-view+json": {
       "model_id": "0fb3aa42f2dd453c8e288835b6ed0f57",
       "version_major": 2,
       "version_minor": 0
      },
      "text/plain": [
       "Creating CSV from Arrow format:   0%|          | 0/5 [00:00<?, ?ba/s]"
      ]
     },
     "metadata": {},
     "output_type": "display_data"
    },
    {
     "data": {
      "application/vnd.jupyter.widget-view+json": {
       "model_id": "61fe209abfd74252b5bd94cb0d2a7c58",
       "version_major": 2,
       "version_minor": 0
      },
      "text/plain": [
       "Creating CSV from Arrow format:   0%|          | 0/4 [00:00<?, ?ba/s]"
      ]
     },
     "metadata": {},
     "output_type": "display_data"
    },
    {
     "data": {
      "application/vnd.jupyter.widget-view+json": {
       "model_id": "edb160d6c1954deb81eb86b4c67cb817",
       "version_major": 2,
       "version_minor": 0
      },
      "text/plain": [
       "Creating CSV from Arrow format:   0%|          | 0/3 [00:00<?, ?ba/s]"
      ]
     },
     "metadata": {},
     "output_type": "display_data"
    }
   ],
   "source": [
    "from datasets import load_dataset\n",
    "\n",
    "splits = [\n",
    "    \"sentences_50agree\",\n",
    "    \"sentences_66agree\",\n",
    "    \"sentences_75agree\",\n",
    "    \"sentences_allagree\"\n",
    "]\n",
    "\n",
    "for split in splits:\n",
    "    ds = load_dataset(\n",
    "        \"takala/financial_phrasebank\",\n",
    "        name=split,     # This is the agreement level\n",
    "        trust_remote_code=True\n",
    "    )\n",
    "\n",
    "    ds['train'].to_csv(f'data/financial_phrasebank_{split}.csv')"
   ]
  },
  {
   "cell_type": "markdown",
   "id": "cdb92dc0",
   "metadata": {},
   "source": [
    "### **📂 Load File (financial_phrasebank_sentences_50agree)**"
   ]
  },
  {
   "cell_type": "code",
   "execution_count": 5,
   "id": "c6aedbf3",
   "metadata": {},
   "outputs": [
    {
     "name": "stdout",
     "output_type": "stream",
     "text": [
      "Shape: (4846, 2)\n",
      "Columns: ['sentence', 'label']\n"
     ]
    }
   ],
   "source": [
    "import os\n",
    "import pandas as pd\n",
    "\n",
    "file_path = \"data/financial_phrasebank_sentences_50agree.csv\"\n",
    "df = pd.read_csv(file_path)\n",
    "        \n",
    "print(\"Shape:\", df.shape)\n",
    "print(\"Columns:\", df.columns.tolist())"
   ]
  },
  {
   "cell_type": "markdown",
   "id": "b12b2221",
   "metadata": {},
   "source": [
    "### **ℹ️ Basic Info**"
   ]
  },
  {
   "cell_type": "code",
   "execution_count": 6,
   "id": "6be6fa2f",
   "metadata": {},
   "outputs": [
    {
     "data": {
      "application/vnd.microsoft.datawrangler.viewer.v0+json": {
       "columns": [
        {
         "name": "index",
         "rawType": "int64",
         "type": "integer"
        },
        {
         "name": "sentence",
         "rawType": "object",
         "type": "string"
        },
        {
         "name": "label",
         "rawType": "int64",
         "type": "integer"
        }
       ],
       "ref": "43f5732f-8b04-4cf8-be37-a8ad2fca91dc",
       "rows": [
        [
         "0",
         "According to Gran , the company has no plans to move all production to Russia , although that is where the company is growing .",
         "1"
        ],
        [
         "1",
         "Technopolis plans to develop in stages an area of no less than 100,000 square meters in order to host companies working in computer technologies and telecommunications , the statement said .",
         "1"
        ],
        [
         "2",
         "The international electronic industry company Elcoteq has laid off tens of employees from its Tallinn facility ; contrary to earlier layoffs the company contracted the ranks of its office workers , the daily Postimees reported .",
         "0"
        ],
        [
         "3",
         "With the new production plant the company would increase its capacity to meet the expected increase in demand and would improve the use of raw materials and therefore increase the production profitability .",
         "2"
        ],
        [
         "4",
         "According to the company 's updated strategy for the years 2009-2012 , Basware targets a long-term net sales growth in the range of 20 % -40 % with an operating profit margin of 10 % -20 % of net sales .",
         "2"
        ]
       ],
       "shape": {
        "columns": 2,
        "rows": 5
       }
      },
      "text/html": [
       "<div>\n",
       "<style scoped>\n",
       "    .dataframe tbody tr th:only-of-type {\n",
       "        vertical-align: middle;\n",
       "    }\n",
       "\n",
       "    .dataframe tbody tr th {\n",
       "        vertical-align: top;\n",
       "    }\n",
       "\n",
       "    .dataframe thead th {\n",
       "        text-align: right;\n",
       "    }\n",
       "</style>\n",
       "<table border=\"1\" class=\"dataframe\">\n",
       "  <thead>\n",
       "    <tr style=\"text-align: right;\">\n",
       "      <th></th>\n",
       "      <th>sentence</th>\n",
       "      <th>label</th>\n",
       "    </tr>\n",
       "  </thead>\n",
       "  <tbody>\n",
       "    <tr>\n",
       "      <th>0</th>\n",
       "      <td>According to Gran , the company has no plans t...</td>\n",
       "      <td>1</td>\n",
       "    </tr>\n",
       "    <tr>\n",
       "      <th>1</th>\n",
       "      <td>Technopolis plans to develop in stages an area...</td>\n",
       "      <td>1</td>\n",
       "    </tr>\n",
       "    <tr>\n",
       "      <th>2</th>\n",
       "      <td>The international electronic industry company ...</td>\n",
       "      <td>0</td>\n",
       "    </tr>\n",
       "    <tr>\n",
       "      <th>3</th>\n",
       "      <td>With the new production plant the company woul...</td>\n",
       "      <td>2</td>\n",
       "    </tr>\n",
       "    <tr>\n",
       "      <th>4</th>\n",
       "      <td>According to the company 's updated strategy f...</td>\n",
       "      <td>2</td>\n",
       "    </tr>\n",
       "  </tbody>\n",
       "</table>\n",
       "</div>"
      ],
      "text/plain": [
       "                                            sentence  label\n",
       "0  According to Gran , the company has no plans t...      1\n",
       "1  Technopolis plans to develop in stages an area...      1\n",
       "2  The international electronic industry company ...      0\n",
       "3  With the new production plant the company woul...      2\n",
       "4  According to the company 's updated strategy f...      2"
      ]
     },
     "execution_count": 6,
     "metadata": {},
     "output_type": "execute_result"
    }
   ],
   "source": [
    "df.head()\n"
   ]
  },
  {
   "cell_type": "code",
   "execution_count": 7,
   "id": "179ae41a",
   "metadata": {},
   "outputs": [
    {
     "name": "stdout",
     "output_type": "stream",
     "text": [
      "<class 'pandas.core.frame.DataFrame'>\n",
      "RangeIndex: 4846 entries, 0 to 4845\n",
      "Data columns (total 2 columns):\n",
      " #   Column    Non-Null Count  Dtype \n",
      "---  ------    --------------  ----- \n",
      " 0   sentence  4846 non-null   object\n",
      " 1   label     4846 non-null   int64 \n",
      "dtypes: int64(1), object(1)\n",
      "memory usage: 75.8+ KB\n"
     ]
    }
   ],
   "source": [
    "df.info()"
   ]
  },
  {
   "cell_type": "code",
   "execution_count": 8,
   "id": "51f5322c",
   "metadata": {},
   "outputs": [
    {
     "data": {
      "application/vnd.microsoft.datawrangler.viewer.v0+json": {
       "columns": [
        {
         "name": "index",
         "rawType": "object",
         "type": "string"
        },
        {
         "name": "label",
         "rawType": "float64",
         "type": "float"
        }
       ],
       "ref": "0823dadc-41eb-474e-8f43-8d58be7248db",
       "rows": [
        [
         "count",
         "4846.0"
        ],
        [
         "mean",
         "1.1566240198101527"
        ],
        [
         "std",
         "0.617615904392808"
        ],
        [
         "min",
         "0.0"
        ],
        [
         "25%",
         "1.0"
        ],
        [
         "50%",
         "1.0"
        ],
        [
         "75%",
         "2.0"
        ],
        [
         "max",
         "2.0"
        ]
       ],
       "shape": {
        "columns": 1,
        "rows": 8
       }
      },
      "text/html": [
       "<div>\n",
       "<style scoped>\n",
       "    .dataframe tbody tr th:only-of-type {\n",
       "        vertical-align: middle;\n",
       "    }\n",
       "\n",
       "    .dataframe tbody tr th {\n",
       "        vertical-align: top;\n",
       "    }\n",
       "\n",
       "    .dataframe thead th {\n",
       "        text-align: right;\n",
       "    }\n",
       "</style>\n",
       "<table border=\"1\" class=\"dataframe\">\n",
       "  <thead>\n",
       "    <tr style=\"text-align: right;\">\n",
       "      <th></th>\n",
       "      <th>label</th>\n",
       "    </tr>\n",
       "  </thead>\n",
       "  <tbody>\n",
       "    <tr>\n",
       "      <th>count</th>\n",
       "      <td>4846.000000</td>\n",
       "    </tr>\n",
       "    <tr>\n",
       "      <th>mean</th>\n",
       "      <td>1.156624</td>\n",
       "    </tr>\n",
       "    <tr>\n",
       "      <th>std</th>\n",
       "      <td>0.617616</td>\n",
       "    </tr>\n",
       "    <tr>\n",
       "      <th>min</th>\n",
       "      <td>0.000000</td>\n",
       "    </tr>\n",
       "    <tr>\n",
       "      <th>25%</th>\n",
       "      <td>1.000000</td>\n",
       "    </tr>\n",
       "    <tr>\n",
       "      <th>50%</th>\n",
       "      <td>1.000000</td>\n",
       "    </tr>\n",
       "    <tr>\n",
       "      <th>75%</th>\n",
       "      <td>2.000000</td>\n",
       "    </tr>\n",
       "    <tr>\n",
       "      <th>max</th>\n",
       "      <td>2.000000</td>\n",
       "    </tr>\n",
       "  </tbody>\n",
       "</table>\n",
       "</div>"
      ],
      "text/plain": [
       "             label\n",
       "count  4846.000000\n",
       "mean      1.156624\n",
       "std       0.617616\n",
       "min       0.000000\n",
       "25%       1.000000\n",
       "50%       1.000000\n",
       "75%       2.000000\n",
       "max       2.000000"
      ]
     },
     "execution_count": 8,
     "metadata": {},
     "output_type": "execute_result"
    }
   ],
   "source": [
    "df.describe()"
   ]
  },
  {
   "cell_type": "markdown",
   "id": "4587e5d4",
   "metadata": {},
   "source": [
    "### **📊 Distribution of Labels**"
   ]
  },
  {
   "cell_type": "markdown",
   "id": "b4700478",
   "metadata": {},
   "source": [
    "As expected, the dataset is imbalanced, with a higher number of neutral sentences compared to positive and negative ones. This is common in sentiment analysis datasets, especially in financial contexts where neutral (54.9%) statements are more frequent."
   ]
  },
  {
   "cell_type": "code",
   "execution_count": 16,
   "id": "e0289d20",
   "metadata": {},
   "outputs": [
    {
     "data": {
      "application/vnd.microsoft.datawrangler.viewer.v0+json": {
       "columns": [
        {
         "name": "label_name",
         "rawType": "object",
         "type": "string"
        },
        {
         "name": "proportion",
         "rawType": "float64",
         "type": "float"
        }
       ],
       "ref": "5e4c1073-0881-4223-88c1-0a01365b5996",
       "rows": [
        [
         "Neutral",
         "59.41"
        ],
        [
         "Positive",
         "28.13"
        ],
        [
         "Negative",
         "12.46"
        ]
       ],
       "shape": {
        "columns": 1,
        "rows": 3
       }
      },
      "text/plain": [
       "label_name\n",
       "Neutral     59.41\n",
       "Positive    28.13\n",
       "Negative    12.46\n",
       "Name: proportion, dtype: float64"
      ]
     },
     "execution_count": 16,
     "metadata": {},
     "output_type": "execute_result"
    }
   ],
   "source": [
    "# Map numeric labels to sentiment names\n",
    "label_map = {0: \"Negative\", 1: \"Neutral\", 2: \"Positive\"}\n",
    "df['label_name'] = df['label'].map(label_map)\n",
    "\n",
    "percentages = df['label_name'].value_counts(normalize=True) * 100\n",
    "percentages.round(2)"
   ]
  },
  {
   "cell_type": "markdown",
   "id": "bffd0957",
   "metadata": {},
   "source": []
  },
  {
   "cell_type": "code",
   "execution_count": null,
   "id": "12d074dd",
   "metadata": {},
   "outputs": [
    {
     "data": {
      "image/png": "[encoded data removed]",
      "text/plain": [
       "<Figure size 640x480 with 1 Axes>"
      ]
     },
     "metadata": {},
     "output_type": "display_data"
    }
   ],
   "source": [
    "import seaborn as sns\n",
    "import matplotlib.pyplot as plt\n",
    "\n",
    "\n",
    "\n",
    "\n",
    "sns.countplot(data=df, x='label_name')\n",
    "sns.set(style=\"whitegrid\")\n",
    "plt.title('Distribution of Labels')\n",
    "plt.xlabel('Label')\n",
    "plt.ylabel('Count')\n",
    "plt.show()"
   ]
  },
  {
   "cell_type": "markdown",
   "id": "e9cbf8a5",
   "metadata": {},
   "source": [
    "### **🔠 Most frequent words**"
   ]
  },
  {
   "cell_type": "markdown",
   "id": "22653d86",
   "metadata": {},
   "source": [
    "The more frequent words in the dataset correspond to the most frequent words in the English language, such as \"the\", \"and\", \"to\", \"of\", etc. So we can perfom a stopword removal to focus on the more meaningful words in the dataset."
   ]
  },
  {
   "cell_type": "code",
   "execution_count": 10,
   "id": "62970dcf",
   "metadata": {},
   "outputs": [
    {
     "data": {
      "text/plain": [
       "Text(0.5, 0, 'Words')"
      ]
     },
     "execution_count": 10,
     "metadata": {},
     "output_type": "execute_result"
    },
    {
     "data": {
      "image/png": "[encoded data removed]",
      "text/plain": [
       "<Figure size 1200x600 with 1 Axes>"
      ]
     },
     "metadata": {},
     "output_type": "display_data"
    }
   ],
   "source": [
    "import pandas as pd\n",
    "from collections import Counter\n",
    "import re\n",
    "\n",
    "# Tokenization: split sentences into words, convert to lowercase, and remove unwanted characters\n",
    "def tokenize(text):\n",
    "    # Converts text to lowercase and extracts words only (ignores numbers and punctuation)\n",
    "    return re.findall(r'\\b[a-záéíóúüñ]+\\b', text.lower())\n",
    "\n",
    "all_words = []\n",
    "for sentence in df['sentence']:\n",
    "    all_words.extend(tokenize(sentence))\n",
    "\n",
    "# Count word frequency\n",
    "counter = Counter(all_words)\n",
    "most_common = counter.most_common(20)  # Top 20 most frequent words\n",
    "\n",
    "plt.figure(figsize=(12, 6))\n",
    "vertical = True  # Set to True for vertical bars, False for horizontal\n",
    "if vertical:\n",
    "    sns.set_style(style=\"whitegrid\")  \n",
    "sns.barplot(y=[word for word, freq in most_common], x=[freq for word, freq in most_common])\n",
    "\n",
    "plt.title('Top 20 Most Frequent Words')\n",
    "plt.xlabel('Words')     \n"
   ]
  },
  {
   "cell_type": "markdown",
   "id": "09c1e7c9",
   "metadata": {},
   "source": [
    "### **🔠 Most frequent words without stopwords**"
   ]
  },
  {
   "cell_type": "markdown",
   "id": "3c4c377a",
   "metadata": {},
   "source": [
    "After applying stopwords removal, we can visualize the most common words again. This time, we will find words like eur, sales, and other financial terms that are more relevant to the dataset.\n",
    "\n",
    "Finding eur instead of dollars or USD, shows that  the dataset is probably more focus on European financial."
   ]
  },
  {
   "cell_type": "code",
   "execution_count": null,
   "id": "9e0446d2",
   "metadata": {},
   "outputs": [
    {
     "name": "stderr",
     "output_type": "stream",
     "text": [
      "[nltk_data] Downloading package stopwords to\n",
      "[nltk_data]     C:\\Users\\adral\\AppData\\Roaming\\nltk_data...\n",
      "[nltk_data]   Package stopwords is already up-to-date!\n"
     ]
    },
    {
     "data": {
      "text/plain": [
       "Text(0.5, 0, 'Words')"
      ]
     },
     "execution_count": 11,
     "metadata": {},
     "output_type": "execute_result"
    },
    {
     "data": {
      "image/png": "[encoded data removed]",
      "text/plain": [
       "<Figure size 1200x600 with 1 Axes>"
      ]
     },
     "metadata": {},
     "output_type": "display_data"
    }
   ],
   "source": [
    "from nltk.corpus import stopwords\n",
    "import nltk\n",
    "nltk.download('stopwords')\n",
    "\n",
    "# Get list of English stopwords\n",
    "stop_words = set(stopwords.words('english'))\n",
    "\n",
    "# Filter out stopwords from the word list\n",
    "filtered_words = [w for w in all_words if w not in stop_words]\n",
    "filtered_counter = Counter(filtered_words)\n",
    "most_common_filtered = filtered_counter.most_common(20)\n",
    "\n",
    "plt.figure(figsize=(12, 6))\n",
    "vertical = True  # Set to True for vertical bars, False for horizontal\n",
    "if vertical:\n",
    "    sns.set_style(style=\"whitegrid\")  \n",
    "sns.barplot(y=[word for word, freq in most_common_filtered], x=[freq for word, freq in most_common_filtered])\n",
    "\n",
    "plt.title('Top 20 Most Frequent Words without Stopwords')\n",
    "plt.xlabel('Words')     "
   ]
  }
 ],
 "metadata": {
  "kernelspec": {
   "display_name": "Python 3",
   "language": "python",
   "name": "python3"
  },
  "language_info": {
   "codemirror_mode": {
    "name": "ipython",
    "version": 3
   },
   "file_extension": ".py",
   "mimetype": "text/x-python",
   "name": "python",
   "nbconvert_exporter": "python",
   "pygments_lexer": "ipython3",
   "version": "3.12.10"
  }
 },
 "nbformat": 4,
 "nbformat_minor": 5
}
