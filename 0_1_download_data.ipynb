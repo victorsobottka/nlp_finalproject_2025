{
 "cells": [
  {
   "cell_type": "markdown",
   "id": "2cc9a4e0",
   "metadata": {},
   "source": [
    "## **📩 Data Exportation** "
   ]
  },
  {
   "cell_type": "markdown",
   "id": "2539e6bc",
   "metadata": {},
   "source": [
    "### **🤗 Description from Hugging Face**\n",
    "\n",
    "Polar sentiment dataset of sentences from financial news. The dataset consists of 4840 sentences from English language financial news categorised by sentiment. The dataset is divided by agreement rate of 5-8 annotators."
   ]
  },
  {
   "cell_type": "markdown",
   "id": "fb9876e5",
   "metadata": {},
   "source": [
    "### **✂️Data Splits**\n",
    "\n",
    "There's no train/validation/test split.\n",
    "\n",
    "However the dataset is available in four possible configurations depending on the percentage of agreement of annotators:\n",
    "\n",
    "- `sentences_50agree` Number of instances with >=50% annotator agreement: 4846 \n",
    "- `sentences_66agree` Number of instances with >=66% annotator agreement: 4217 \n",
    "- `sentences_75agree` Number of instances with >=75% annotator agreement: 3453 \n",
    "- `sentences_allagree` Number of instances with 100% annotator agreement: 2264\n",
    "\n",
    "The code below export all splits into csv files:"
   ]
  },
  {
   "cell_type": "code",
   "execution_count": null,
   "id": "1af03742",
   "metadata": {},
   "outputs": [
    {
     "data": {
      "application/vnd.jupyter.widget-view+json": {
       "model_id": "7017177ffc6b4c5eb79bf9834584afbc",
       "version_major": 2,
       "version_minor": 0
      },
      "text/plain": [
       "Creating CSV from Arrow format:   0%|          | 0/5 [00:00<?, ?ba/s]"
      ]
     },
     "metadata": {},
     "output_type": "display_data"
    },
    {
     "data": {
      "application/vnd.jupyter.widget-view+json": {
       "model_id": "6760a7026e1e4405a09476139f832996",
       "version_major": 2,
       "version_minor": 0
      },
      "text/plain": [
       "Creating CSV from Arrow format:   0%|          | 0/5 [00:00<?, ?ba/s]"
      ]
     },
     "metadata": {},
     "output_type": "display_data"
    },
    {
     "data": {
      "application/vnd.jupyter.widget-view+json": {
       "model_id": "97b5976da1fa4ff98fd6b32282a5cfdf",
       "version_major": 2,
       "version_minor": 0
      },
      "text/plain": [
       "Creating CSV from Arrow format:   0%|          | 0/4 [00:00<?, ?ba/s]"
      ]
     },
     "metadata": {},
     "output_type": "display_data"
    },
    {
     "data": {
      "application/vnd.jupyter.widget-view+json": {
       "model_id": "83bb0f8c53484fd5abcd5591dc5af3f3",
       "version_major": 2,
       "version_minor": 0
      },
      "text/plain": [
       "Creating CSV from Arrow format:   0%|          | 0/3 [00:00<?, ?ba/s]"
      ]
     },
     "metadata": {},
     "output_type": "display_data"
    }
   ],
   "source": [
    "splits = [\n",
    "    \"sentences_50agree\",\n",
    "    \"sentences_66agree\",\n",
    "    \"sentences_75agree\",\n",
    "    \"sentences_allagree\"\n",
    "]\n",
    "\n",
    "for split in splits:\n",
    "    ds = load_dataset(\n",
    "        \"takala/financial_phrasebank\",\n",
    "        name=split,     # This is the agreement level\n",
    "        trust_remote_code=True\n",
    "    )\n",
    "\n",
    "    ds['train'].to_csv(f'data/financial_phrasebank_{split}.csv')"
   ]
  }
 ],
 "metadata": {
  "kernelspec": {
   "display_name": "Python 3",
   "language": "python",
   "name": "python3"
  },
  "language_info": {
   "codemirror_mode": {
    "name": "ipython",
    "version": 3
   },
   "file_extension": ".py",
   "mimetype": "text/x-python",
   "name": "python",
   "nbconvert_exporter": "python",
   "pygments_lexer": "ipython3",
   "version": "3.12.10"
  }
 },
 "nbformat": 4,
 "nbformat_minor": 5
}
