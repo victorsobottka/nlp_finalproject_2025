{
 "cells": [
  {
   "cell_type": "markdown",
   "id": "b935e79c",
   "metadata": {},
   "source": [
    "# 🧑‍🎨**Part 3: State of Art Comparison**\n",
    "\n",
    "- **Objective:** Benchmark your model against the SOA with the full dataset now available."
   ]
  },
  {
   "cell_type": "markdown",
   "id": "5fc76533",
   "metadata": {},
   "source": [
    "In this section, we compare our selected model against state-of-the-art approaches. The evaluation is based on the 75% agreement subset, which includes 3,453 examples looking for a balance between label consistency and dataset size."
   ]
  },
  {
   "cell_type": "code",
   "execution_count": 25,
   "id": "a791278b",
   "metadata": {},
   "outputs": [
    {
     "data": {
      "application/vnd.microsoft.datawrangler.viewer.v0+json": {
       "columns": [
        {
         "name": "index",
         "rawType": "int64",
         "type": "integer"
        },
        {
         "name": "sentence",
         "rawType": "object",
         "type": "string"
        },
        {
         "name": "label",
         "rawType": "int64",
         "type": "integer"
        }
       ],
       "ref": "3eef7129-713c-469d-9498-168c993b4839",
       "rows": [
        [
         "0",
         "According to Gran , the company has no plans to move all production to Russia , although that is where the company is growing .",
         "1"
        ],
        [
         "1",
         "With the new production plant the company would increase its capacity to meet the expected increase in demand and would improve the use of raw materials and therefore increase the production profitability .",
         "2"
        ],
        [
         "2",
         "For the last quarter of 2010 , Componenta 's net sales doubled to EUR131m from EUR76m for the same period a year earlier , while it moved to a zero pre-tax profit from a pre-tax loss of EUR7m .",
         "2"
        ],
        [
         "3",
         "In the third quarter of 2010 , net sales increased by 5.2 % to EUR 205.5 mn , and operating profit by 34.9 % to EUR 23.5 mn .",
         "2"
        ],
        [
         "4",
         "Operating profit rose to EUR 13.1 mn from EUR 8.7 mn in the corresponding period in 2007 representing 7.7 % of net sales .",
         "2"
        ]
       ],
       "shape": {
        "columns": 2,
        "rows": 5
       }
      },
      "text/html": [
       "<div>\n",
       "<style scoped>\n",
       "    .dataframe tbody tr th:only-of-type {\n",
       "        vertical-align: middle;\n",
       "    }\n",
       "\n",
       "    .dataframe tbody tr th {\n",
       "        vertical-align: top;\n",
       "    }\n",
       "\n",
       "    .dataframe thead th {\n",
       "        text-align: right;\n",
       "    }\n",
       "</style>\n",
       "<table border=\"1\" class=\"dataframe\">\n",
       "  <thead>\n",
       "    <tr style=\"text-align: right;\">\n",
       "      <th></th>\n",
       "      <th>sentence</th>\n",
       "      <th>label</th>\n",
       "    </tr>\n",
       "  </thead>\n",
       "  <tbody>\n",
       "    <tr>\n",
       "      <th>0</th>\n",
       "      <td>According to Gran , the company has no plans t...</td>\n",
       "      <td>1</td>\n",
       "    </tr>\n",
       "    <tr>\n",
       "      <th>1</th>\n",
       "      <td>With the new production plant the company woul...</td>\n",
       "      <td>2</td>\n",
       "    </tr>\n",
       "    <tr>\n",
       "      <th>2</th>\n",
       "      <td>For the last quarter of 2010 , Componenta 's n...</td>\n",
       "      <td>2</td>\n",
       "    </tr>\n",
       "    <tr>\n",
       "      <th>3</th>\n",
       "      <td>In the third quarter of 2010 , net sales incre...</td>\n",
       "      <td>2</td>\n",
       "    </tr>\n",
       "    <tr>\n",
       "      <th>4</th>\n",
       "      <td>Operating profit rose to EUR 13.1 mn from EUR ...</td>\n",
       "      <td>2</td>\n",
       "    </tr>\n",
       "  </tbody>\n",
       "</table>\n",
       "</div>"
      ],
      "text/plain": [
       "                                            sentence  label\n",
       "0  According to Gran , the company has no plans t...      1\n",
       "1  With the new production plant the company woul...      2\n",
       "2  For the last quarter of 2010 , Componenta 's n...      2\n",
       "3  In the third quarter of 2010 , net sales incre...      2\n",
       "4  Operating profit rose to EUR 13.1 mn from EUR ...      2"
      ]
     },
     "execution_count": 25,
     "metadata": {},
     "output_type": "execute_result"
    }
   ],
   "source": [
    "import pandas as pd\n",
    "import numpy as np\n",
    "\n",
    "df = pd.read_csv(\"data/financial_phrasebank_sentences_75agree.csv\")\n",
    "df.head()"
   ]
  },
  {
   "cell_type": "markdown",
   "id": "47607a65",
   "metadata": {},
   "source": [
    "The training data will be splitted in fractions of  1%, 10%, 25%, 50%, 75%, and 100% of the train dataset. The resulting dataset will be splitted as well between train and test data (80% - 20%)"
   ]
  },
  {
   "cell_type": "code",
   "execution_count": null,
   "id": "bc248c28",
   "metadata": {},
   "outputs": [],
   "source": [
    "from sklearn.model_selection import train_test_split\n",
    "\n",
    "X_text, y = df[\"sentence\"].values, df[\"label\"].values\n",
    "X_train, X_test, y_train, y_test = train_test_split(X_text, y, test_size=0.2, stratify=y, random_state=42)\n"
   ]
  },
  {
   "cell_type": "markdown",
   "id": "3910425f",
   "metadata": {},
   "source": [
    "We define two funtions to train and evaluate our model. The first function `train_model` will train a model using the training data, and the second function `evaluate_model` will evaluate the model on the test data.\n",
    "\n",
    "The result will give us the accuracy of the model on the test set. This will be usefull to generate a learning curve.\n",
    "\n",
    "**⚠️ train model function should be replaced by BERT model**"
   ]
  },
  {
   "cell_type": "code",
   "execution_count": 26,
   "id": "a69d85d7",
   "metadata": {},
   "outputs": [],
   "source": [
    "def train_model(X_train, y_train):\n",
    "    model = make_pipeline(TfidfVectorizer(), LogisticRegression(max_iter=1000))\n",
    "    model.fit(X_train, y_train)\n",
    "    return model\n",
    "\n",
    "def evaluate_model(model, X_test, y_test):\n",
    "    y_pred = model.predict(X_test)\n",
    "    return accuracy_score(y_test, y_pred)"
   ]
  },
  {
   "cell_type": "markdown",
   "id": "93b24c4e",
   "metadata": {},
   "source": [
    "  ### a. Full Dataset Training (0.25 points):\n",
    "\n",
    "**Task:** Incrementally train your model with varying percentages of the full dataset (1%, 10%, 25%, 50%, 75%, and 100%). Record the results."
   ]
  },
  {
   "cell_type": "markdown",
   "id": "c6f29485",
   "metadata": {},
   "source": [
    "The following code is used to train and evaluate the model, the results are saved into results list."
   ]
  },
  {
   "cell_type": "code",
   "execution_count": 47,
   "id": "9c51f14a",
   "metadata": {},
   "outputs": [],
   "source": [
    "# Train the model using different fractions of training data\n",
    "fractions = [0.01, 0.10, 0.25, 0.50, 0.75, 1.00]\n",
    "results = {}\n",
    "\n",
    "for frac in fractions:\n",
    "    size = int(len(X_text) * frac)\n",
    "    X_frac = X_text[:size]\n",
    "    y_frac = y[:size]\n",
    "\n",
    "    # 80% train, 20% test\n",
    "    X_train_frac, X_test_frac, y_train_frac, y_test_frac = train_test_split(\n",
    "        X_frac, y_frac, test_size=0.2, random_state=42\n",
    "    )\n",
    "\n",
    "    model = train_model(X_train_frac, y_train_frac)\n",
    "    acc = evaluate_model(model, X_test_frac, y_test_frac)\n",
    "    results[int(frac * 100)] = round(acc * 100, 2)\n"
   ]
  },
  {
   "cell_type": "markdown",
   "id": "81d559db",
   "metadata": {},
   "source": [
    "### b. Learning Curve (0.25 points): \n",
    "\n",
    "**Task** Plot a learning curve based on the training data percentages."
   ]
  },
  {
   "cell_type": "markdown",
   "id": "c969b6d5",
   "metadata": {},
   "source": [
    "The table shows a learning curve, which illustrates how the model’s accuracy improves as more training data is used."
   ]
  },
  {
   "cell_type": "code",
   "execution_count": 53,
   "id": "07c1712b",
   "metadata": {},
   "outputs": [
    {
     "data": {
      "application/vnd.microsoft.datawrangler.viewer.v0+json": {
       "columns": [
        {
         "name": "index",
         "rawType": "int64",
         "type": "integer"
        },
        {
         "name": "Training data percentage",
         "rawType": "int64",
         "type": "integer"
        },
        {
         "name": "Accuracy (%)",
         "rawType": "float64",
         "type": "float"
        }
       ],
       "ref": "72027d1d-a561-44fb-8593-6812d2f55d79",
       "rows": [
        [
         "0",
         "1",
         "62.08393632416788"
        ],
        [
         "1",
         "10",
         "71.78002894356005"
        ],
        [
         "2",
         "25",
         "77.27930535455862"
        ],
        [
         "3",
         "50",
         "80.02894356005788"
        ],
        [
         "4",
         "75",
         "82.77858176555716"
        ],
        [
         "5",
         "100",
         "83.79160636758321"
        ]
       ],
       "shape": {
        "columns": 2,
        "rows": 6
       }
      },
      "text/html": [
       "<div>\n",
       "<style scoped>\n",
       "    .dataframe tbody tr th:only-of-type {\n",
       "        vertical-align: middle;\n",
       "    }\n",
       "\n",
       "    .dataframe tbody tr th {\n",
       "        vertical-align: top;\n",
       "    }\n",
       "\n",
       "    .dataframe thead th {\n",
       "        text-align: right;\n",
       "    }\n",
       "</style>\n",
       "<table border=\"1\" class=\"dataframe\">\n",
       "  <thead>\n",
       "    <tr style=\"text-align: right;\">\n",
       "      <th></th>\n",
       "      <th>Training data percentage</th>\n",
       "      <th>Accuracy (%)</th>\n",
       "    </tr>\n",
       "  </thead>\n",
       "  <tbody>\n",
       "    <tr>\n",
       "      <th>0</th>\n",
       "      <td>1</td>\n",
       "      <td>62.083936</td>\n",
       "    </tr>\n",
       "    <tr>\n",
       "      <th>1</th>\n",
       "      <td>10</td>\n",
       "      <td>71.780029</td>\n",
       "    </tr>\n",
       "    <tr>\n",
       "      <th>2</th>\n",
       "      <td>25</td>\n",
       "      <td>77.279305</td>\n",
       "    </tr>\n",
       "    <tr>\n",
       "      <th>3</th>\n",
       "      <td>50</td>\n",
       "      <td>80.028944</td>\n",
       "    </tr>\n",
       "    <tr>\n",
       "      <th>4</th>\n",
       "      <td>75</td>\n",
       "      <td>82.778582</td>\n",
       "    </tr>\n",
       "    <tr>\n",
       "      <th>5</th>\n",
       "      <td>100</td>\n",
       "      <td>83.791606</td>\n",
       "    </tr>\n",
       "  </tbody>\n",
       "</table>\n",
       "</div>"
      ],
      "text/plain": [
       "   Training data percentage  Accuracy (%)\n",
       "0                         1     62.083936\n",
       "1                        10     71.780029\n",
       "2                        25     77.279305\n",
       "3                        50     80.028944\n",
       "4                        75     82.778582\n",
       "5                       100     83.791606"
      ]
     },
     "execution_count": 53,
     "metadata": {},
     "output_type": "execute_result"
    }
   ],
   "source": [
    "df_learning_curve "
   ]
  },
  {
   "cell_type": "code",
   "execution_count": 46,
   "id": "4c33cafa",
   "metadata": {},
   "outputs": [
    {
     "data": {
      "image/png": "[encoded data removed]",
      "text/plain": [
       "<Figure size 800x500 with 1 Axes>"
      ]
     },
     "metadata": {},
     "output_type": "display_data"
    }
   ],
   "source": [
    "plt.figure(figsize=(8, 5))\n",
    "plt.plot(df_learning_curve[\"Training data percentage\"],\n",
    "         df_learning_curve[\"Accuracy (%)\"], marker='o')\n",
    "plt.title(\"Learning Curve - Simulated Model\")\n",
    "plt.xlabel(\"Percentage of training dataset used\")\n",
    "plt.ylabel(\"Accuracy (%)\")\n",
    "plt.grid(True)\n",
    "plt.xticks(df_learning_curve[\"Training data percentage\"])\n",
    "plt.ylim(50, 100)\n",
    "plt.tight_layout()\n",
    "plt.show()"
   ]
  },
  {
   "cell_type": "markdown",
   "id": "dd0957ed",
   "metadata": {},
   "source": [
    "### c. Technique Comparison (0.5 points): \n",
    "\n",
    "**Task:** Incorporate the techniques tested in Part 2 into your training schema for comparison."
   ]
  },
  {
   "cell_type": "markdown",
   "id": "cd1c232e",
   "metadata": {},
   "source": [
    "### d. Methodology Analysis (1 point): \n",
    "\n",
    "**Task:** Analyze and compare all methods employed. Discuss the effectiveness and limitations observed."
   ]
  }
 ],
 "metadata": {
  "kernelspec": {
   "display_name": "Python 3",
   "language": "python",
   "name": "python3"
  },
  "language_info": {
   "codemirror_mode": {
    "name": "ipython",
    "version": 3
   },
   "file_extension": ".py",
   "mimetype": "text/x-python",
   "name": "python",
   "nbconvert_exporter": "python",
   "pygments_lexer": "ipython3",
   "version": "3.12.10"
  }
 },
 "nbformat": 4,
 "nbformat_minor": 5
}
